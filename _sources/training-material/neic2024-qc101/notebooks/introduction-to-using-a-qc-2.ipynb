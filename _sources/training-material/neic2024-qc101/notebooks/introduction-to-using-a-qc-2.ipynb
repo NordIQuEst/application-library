{
 "cells": [
  {
   "cell_type": "markdown",
   "metadata": {},
   "source": [
    "# **Workshop: Quantum Computing 101 Part II**\n",
    "\n",
    "The second part of the workshop will focus on a hybrid quantum algorithm, the variational quantum eigensolver (VQE), giving a general description of how the algorithm works. We will implement the VQE algorithm for the Hydrogen molecule $H_2$. \n",
    "\n",
    "The $H_2$ system is one of the smallest systems one can imagine to begin using VQE with. The $H_2$ molecule is so small that it can be solved analytically and also extremely fast on your laptop. \n",
    "\n",
    "For this notebook, we will be following the work reported in [O'Malley etal 2015, *Scalable Quantum Simulation of Molecular Energies*, arXiv:1512.06860v2](https://arxiv.org/abs/1512.06860). The following figure given in the article summarizes the entire setup:\n",
    "\n",
    "<img src=\"img/omalley-etal-2016-vqe.png\" alt=\"VQE circuit. Source arXiv 1512.06860v2\" title=\"VQE circuit. Source arXiv 1512.06860v2\" style=\"width: 700px;\"/>\n",
    "\n",
    "Fig. 1. The variational quantum eigensolver circuit and hardware. Source: <a href=\"https://arxiv.org/abs/1512.06860\">arXiv:1512.06860v2</a>. \n",
    "\n",
    "The right part of the figure describes our \"qubit Hamiltonian\" of $H_2$. The top part of the figure describes the physical pulses with timings. \n"
   ]
  },
  {
   "cell_type": "markdown",
   "metadata": {},
   "source": [
    "## **VQE - In a nutshell** \n",
    "\n",
    "- Prepare some quantum state using a so-called variational form (ansatz)\n",
    "- Gates in the ansatz have free parameters\n",
    "- For each value of the parameters the resulting state has some mean energy\n",
    "- Find the ground state variationally, that is, minimising over the parameters\n",
    "\n",
    "<img src=\"img/vqe-nutshell.png\" alt=\"VQE nutshell. Source Algorithmiq\" style=\"width: 700px;\"/>\n",
    "\n",
    "Source: Algorithmiq\n",
    "\n",
    "\n",
    "The variational principle: \n",
    "\n",
    "$$ \\langle E \\rangle = \\langle \\psi (\\vec{\\theta}) | \\hat{H} | \\psi(\\vec{\\theta}) \\rangle \\geq E_{ground} $$\n",
    "\n",
    "\n",
    "Firstly we will write our quantum circuit:\n",
    "\n",
    "1. Prepare our initial state\n",
    "2. Create and applying our parametrized ansatz using parameterized gates\n",
    "3. Measure our expectation values \n",
    "\n",
    "Then we apply our classic part which consists of\n",
    "\n",
    "1. Calculating the energy \n",
    "2. Using a classical optimizer to suggest new parameters $\\theta$.\n",
    "\n",
    "\n",
    "We will do this first for the simulator to see how the algorithm works, and then run a simplified version on the real quantum computer. "
   ]
  },
  {
   "cell_type": "markdown",
   "metadata": {},
   "source": [
    "Let's first import some libraries and setup the backend connection"
   ]
  },
  {
   "cell_type": "code",
   "execution_count": 23,
   "metadata": {},
   "outputs": [],
   "source": [
    "import numpy as np\n",
    "from iqm.qiskit_iqm import IQMFakeAdonis\n",
    "from qiskit import ClassicalRegister, QuantumCircuit, QuantumRegister, execute\n",
    "from qiskit.circuit import Parameter\n",
    "from qiskit.compiler import transpile\n",
    "from qiskit_aer import Aer"
   ]
  },
  {
   "cell_type": "code",
   "execution_count": 25,
   "metadata": {},
   "outputs": [],
   "source": [
    "# provider = IQMProvider(\"https://qc.vtt.fi/helmi/cocos\")\n",
    "# backend_helmi = provider.get_backend()\n",
    "\n",
    "backend_sim = Aer.get_backend(\"aer_simulator\")\n",
    "\n",
    "fake_backend = IQMFakeAdonis()"
   ]
  },
  {
   "cell_type": "code",
   "execution_count": 26,
   "metadata": {},
   "outputs": [],
   "source": [
    "def create_ansatz_circuit(qreg, creg, parameter):\n",
    "    \"\"\"\n",
    "    Create H2 ansatz circuit given in O'Malley etal 2015.\n",
    "\n",
    "    args\n",
    "        qreg           - qubits\n",
    "        creg           - classical bits\n",
    "        parameter      - parameter for parameterized circuit\n",
    "\n",
    "    returns\n",
    "        ansatz_circuit - a parameterized circuit\n",
    "    \"\"\"\n",
    "    ansatz_circuit = QuantumCircuit(qreg, creg)\n",
    "\n",
    "    # H2 circuit\n",
    "    # 1 - create HF reference state\n",
    "    ansatz_circuit.rx(np.pi, qreg[0])\n",
    "    ansatz_circuit.barrier()\n",
    "    # 2 - ansatz: U(theta)\n",
    "    ansatz_circuit.rx(-np.pi / 2, qreg[0])\n",
    "    ansatz_circuit.ry(np.pi / 2, qreg[1])\n",
    "    # 3\n",
    "    ansatz_circuit.cx(qreg[1], qreg[0])\n",
    "    # 4 - parameterized Z-rotation\n",
    "    ansatz_circuit.rz(parameter, qreg[0])\n",
    "    # 5\n",
    "    ansatz_circuit.cx(qreg[1], qreg[0])\n",
    "    # 6\n",
    "    ansatz_circuit.rx(np.pi / 2, qreg[0])\n",
    "    ansatz_circuit.ry(-np.pi / 2, qreg[1])\n",
    "    ansatz_circuit.barrier()\n",
    "\n",
    "    return ansatz_circuit"
   ]
  },
  {
   "cell_type": "code",
   "execution_count": 27,
   "metadata": {},
   "outputs": [
    {
     "data": {
      "image/png": "[encoded data removed]",
      "text/plain": [
       "<Figure size 807.192x284.278 with 1 Axes>"
      ]
     },
     "execution_count": 27,
     "metadata": {},
     "output_type": "execute_result"
    }
   ],
   "source": [
    "theta = Parameter(\"θ\")\n",
    "q = QuantumRegister(2)\n",
    "c = ClassicalRegister(2)\n",
    "\n",
    "ansatz_circuit = create_ansatz_circuit(q, c, theta)\n",
    "\n",
    "ansatz_circuit.draw(\"mpl\")"
   ]
  },
  {
   "cell_type": "markdown",
   "metadata": {},
   "source": [
    "Barriers are added for visualization purposes. \n",
    "\n",
    "One of the new features added here is the $R_z$ gate with parameter $\\theta$. This is a parametrized gate. Using this gate, this means that we only need to update the parameter $\\theta$ and do not need to re-create the whole circuit, saving time. This becomes a problem when you have large circuits. \n",
    "\n",
    "Now we have:\n",
    "\n",
    "1. The prepared initial state\n",
    "2. The applied parameterized anzatz circuit\n",
    "\n",
    "Now we need to measure the expectation values. However this is not straight forward.\n",
    "\n",
    "## **Measure expectation values**\n",
    "\n",
    "The qubit Hamiltonian we need to measure is as follows\n",
    "\n",
    "$$ \n",
    "H = g_0 \\mathbb{1} + g_1 Z_0 + g_2 Z_1 + g_3 Z_0 Z_1 + g_4 Y_0 Y_1 + g_5 X_0 X_1\n",
    "$$\n",
    "\n",
    "where $g_i$ are (real valued) coefficients that have been computed classically. They are given in the Table 1 in the appendix of O'Malley etal 2015. The values of $g_i$ are functions of hydrogen-hydrogen bond length $R$. We will take the coefficients at bond length $R = 0.75$ (in units $10^{-10}$ m) where the energy is lowest (the actual bond length where the energy is lowest is $0.74$, which is close).\n",
    "\n",
    "Measurements are performed using the $Z$ basis through the Qiskit function `measure()`. This means that we cannot directly measure the Pauli $X$ or $Y$ operators for $X_0 X_1$ and $Y_0 Y_1$. In order to measure the latter, we have to use the following trick: \n",
    "\n",
    "- to measure $X$, perform basis transformation from the $X$ and $Z$\n",
    "- then measure the qubits as usual (in the $Z$ basis) with `measure()`.\n",
    "\n",
    "The same applies to $Y$ measurements, in this case we need to perform basis transformation from $Y$ to $Z$.\n",
    "\n",
    "In order to compute the average value $\\langle H \\rangle$ of the (total) Hamiltonian we will use the fact that the total average is equal to the sum of averages of its terms,\n",
    "\n",
    "$$\n",
    "\\langle H\\rangle = g_0 \\langle \\mathbb{1}\\rangle + g_1 \\langle Z_0\\rangle + g_2 \\langle Z_1\\rangle + g_3 \\langle Z_0 Z_1\\rangle + g_4 \\langle Y_0 Y_1\\rangle + g_5 \\langle X_0 X_1\\rangle.\n",
    "$$\n",
    "\n",
    "So we need to compute the expectation value of each term, then multiply each with the respective coefficient $g_i$, and finally add averages of all terms. Note that $\\langle\\mathbb{1}\\rangle = 1$, so we can just add the coefficient $g_0$."
   ]
  },
  {
   "cell_type": "code",
   "execution_count": 28,
   "metadata": {},
   "outputs": [],
   "source": [
    "def paulis_to_measure_circ(qreg, creg, hamlist):\n",
    "    \"\"\"\n",
    "    Generate measure circuits from hamiltonian pauli list\n",
    "    for measurements in different bases.\n",
    "\n",
    "    args\n",
    "        qreg     - qubits\n",
    "        creg     - classical bits\n",
    "        hamlist  - total hamiltonian, i.e. pauli strings\n",
    "\n",
    "    returns\n",
    "        circuits - list of circuits that can be used to average over\n",
    "    \"\"\"\n",
    "    circuits = []\n",
    "\n",
    "    for elem in hamlist:\n",
    "        minicirc = QuantumCircuit(qreg, creg)\n",
    "\n",
    "        for qubitno, qubitop in elem:\n",
    "            if qubitop == \"Z\":\n",
    "                pass\n",
    "            elif qubitop == \"X\":\n",
    "                minicirc.h(qreg[qubitno])\n",
    "            elif qubitop == \"Y\":\n",
    "                minicirc.sdg(qreg[qubitno])\n",
    "                minicirc.h(qreg[qubitno])\n",
    "            else:\n",
    "                assert False, \"Error: INVALID qubit operation\"\n",
    "\n",
    "        minicirc.measure(qreg, creg)\n",
    "        circuits.append(minicirc)\n",
    "\n",
    "    return circuits"
   ]
  },
  {
   "cell_type": "code",
   "execution_count": 29,
   "metadata": {},
   "outputs": [
    {
     "data": {
      "image/png": "[encoded data removed]",
      "text/plain": [
       "<Figure size 305.727x284.278 with 1 Axes>"
      ]
     },
     "metadata": {},
     "output_type": "display_data"
    },
    {
     "data": {
      "image/png": "[encoded data removed]",
      "text/plain": [
       "<Figure size 305.727x284.278 with 1 Axes>"
      ]
     },
     "metadata": {},
     "output_type": "display_data"
    },
    {
     "data": {
      "image/png": "[encoded data removed]",
      "text/plain": [
       "<Figure size 305.727x284.278 with 1 Axes>"
      ]
     },
     "metadata": {},
     "output_type": "display_data"
    },
    {
     "data": {
      "image/png": "[encoded data removed]",
      "text/plain": [
       "<Figure size 389.338x284.278 with 1 Axes>"
      ]
     },
     "metadata": {},
     "output_type": "display_data"
    },
    {
     "data": {
      "image/png": "[encoded data removed]",
      "text/plain": [
       "<Figure size 472.949x284.278 with 1 Axes>"
      ]
     },
     "metadata": {},
     "output_type": "display_data"
    },
    {
     "data": {
      "text/plain": [
       "[None, None, None, None, None]"
      ]
     },
     "execution_count": 29,
     "metadata": {},
     "output_type": "execute_result"
    }
   ],
   "source": [
    "theta = Parameter(\"θ\")\n",
    "q = QuantumRegister(2)\n",
    "c = ClassicalRegister(2)\n",
    "hamiltonian = (\n",
    "    ((0, \"Z\"),),\n",
    "    ((1, \"Z\"),),\n",
    "    ((0, \"Z\"), (1, \"Z\")),\n",
    "    ((0, \"X\"), (1, \"X\")),\n",
    "    ((0, \"Y\"), (1, \"Y\")),\n",
    ")\n",
    "\n",
    "ham_mini_circuits = paulis_to_measure_circ(q, c, hamiltonian)\n",
    "\n",
    "# print result\n",
    "[display(circ.draw(\"mpl\")) for circ in ham_mini_circuits]"
   ]
  },
  {
   "cell_type": "markdown",
   "metadata": {},
   "source": [
    "This function takes the qubit Hamiltonian and creates the corresponding circuits.  The smallest element has the form `(qubit_number, Pauli_matrix)`, where `qubit_number` is the index of the qubit for the Pauli observable.\n",
    "\n",
    "Let's summarize the computation of the average of the Hamiltonian. We need to compute the averages of terms. We do this by looping over terms, which are represented as mini-circuits. For each mini-circuit, we will take the ansatz, add to it the mini-circuit, and run the resulting circuit, collect measurement statistics and compute the average.\n",
    "\n",
    "## **Scan the parameter interval**\n",
    "\n",
    "We will not bother with classical optimization in this small implementation. The circuit has only one parameter&mdash;the angle $\\theta$ of the $R_z$ rotation&mdash;which ranges between $[-\\pi, \\pi]$. Instead of searching for the minimum value of $\\langle H\\rangle$, we will scan this interval and record the minimum energy.\n",
    "\n",
    "Let us add a loop to do this."
   ]
  },
  {
   "cell_type": "code",
   "execution_count": 41,
   "metadata": {},
   "outputs": [],
   "source": [
    "def get_paulistr_avg(counts, obs, shots):\n",
    "    \"\"\"\n",
    "    Calculate average of a Pauli string (e.g. IX, XX or YY).\n",
    "\n",
    "    args\n",
    "        counts      - result of simulation: {'00': 45, '01': 34, . . .}\n",
    "        obs         - data for calculating probabilities\n",
    "        shots       - number of repetitions\n",
    "\n",
    "    returns\n",
    "        avg         - the average value\n",
    "    \"\"\"\n",
    "    avg = 0\n",
    "    for c in counts:\n",
    "        for k, v in c.items():\n",
    "            avg += obs[k] * (v / shots)\n",
    "\n",
    "    return avg\n",
    "\n",
    "\n",
    "def get_ham_avg(\n",
    "    theta, theta_range, ansatz, coeffs, ham_mini_circuits, obs, shots, backend\n",
    "):\n",
    "    \"\"\"\n",
    "    Compute average of the total qubit Hamiltonian.\n",
    "\n",
    "    args\n",
    "        params           - parameter value for the ansatz circuit\n",
    "        ansatz           - ansatz circuit\n",
    "        ham_mini_ciruits - pre-built circuits to measure Hamiltonian terms\n",
    "        obs              - data for observables\n",
    "        shots            - number of shots\n",
    "\n",
    "    returns\n",
    "        avg   - average of Hamiltonian\n",
    "    \"\"\"\n",
    "    avg = 0\n",
    "\n",
    "    for coeff, measure_circuit, obsval in zip(coeffs, ham_mini_circuits, obs):\n",
    "        total_circuit = ansatz.compose(measure_circuit)\n",
    "        qc_transpiled = transpile(\n",
    "            total_circuit, backend=backend, layout_method=\"sabre\", optimization_level=3\n",
    "        )\n",
    "        circuits = [qc_transpiled.assign_parameters({theta: n}) for n in theta_range]\n",
    "        job = execute(circuits, backend, shots=shots)\n",
    "        print(f\"Submitted job ID: {job.job_id()}.\")\n",
    "        counts = job.result().get_counts()\n",
    "        paulistring_avg = get_paulistr_avg(counts, obsval, shots)\n",
    "        avg += coeff * paulistring_avg\n",
    "\n",
    "    return avg"
   ]
  },
  {
   "cell_type": "code",
   "execution_count": 46,
   "metadata": {},
   "outputs": [
    {
     "name": "stdout",
     "output_type": "stream",
     "text": [
      "0\n",
      "0\n",
      "0\n",
      "0\n",
      "0\n",
      "0\n",
      "0\n",
      "0\n",
      "0\n",
      "0\n",
      "0\n",
      "0\n",
      "0\n",
      "0\n",
      "0\n",
      "0\n",
      "0\n",
      "0\n",
      "0\n",
      "0\n",
      "0\n",
      "0\n",
      "0\n",
      "0\n",
      "0\n",
      "0\n",
      "0\n",
      "0\n",
      "0\n",
      "0\n",
      "0\n",
      "0\n",
      "0\n",
      "0\n",
      "0\n",
      "0\n",
      "0\n",
      "0\n",
      "0\n",
      "0\n",
      "0\n",
      "0\n",
      "0\n",
      "0\n",
      "0\n",
      "0\n",
      "0\n",
      "0\n",
      "0\n",
      "0\n",
      "0\n",
      "0\n",
      "0\n",
      "0\n",
      "0\n",
      "0\n",
      "0\n",
      "0\n",
      "0\n",
      "0\n",
      "0\n",
      "0\n",
      "0\n",
      "0\n",
      "0\n",
      "0\n",
      "0\n",
      "0\n",
      "0\n",
      "0\n",
      "0\n",
      "0\n",
      "0\n",
      "0\n",
      "0\n",
      "0\n",
      "0\n",
      "0\n",
      "0\n",
      "0\n",
      "\n"
     ]
    }
   ],
   "source": [
    "shots = 1000\n",
    "num_points = 40\n",
    "param_range = np.arange(-np.pi, np.pi, np.pi / num_points)\n",
    "\n",
    "# record min val of hamiltonian\n",
    "h_min = 100\n",
    "\n",
    "# g_i coeffs for R = 0.75\n",
    "# Source: Table I https://arxiv.org/pdf/1512.06860\n",
    "g_coeff = [0.3435, -0.4347, 0.5716, 0.091, 0.091]\n",
    "g_coeff_id = 0.2252\n",
    "\n",
    "graph = []\n",
    "obs = []\n",
    "\n",
    "for x in param_range:\n",
    "    h_avg = get_ham_avg(\n",
    "        theta,\n",
    "        param_range,\n",
    "        ansatz_circuit,\n",
    "        g_coeff,\n",
    "        ham_mini_circuits,\n",
    "        obs,\n",
    "        shots,\n",
    "        backend_sim,\n",
    "    )\n",
    "    print(h_avg)\n",
    "    # h_avg += g_coeff_id        # add coeff of id term\n",
    "    # graph.append(h_avg)        # collect data for plotting\n",
    "    # if h_avg < h_min:           # record min value\n",
    "    #     h_min = h_avg\n",
    "\n",
    "# result\n",
    "# print(\"\\nH_min =\", h_min)\n",
    "print()"
   ]
  },
  {
   "cell_type": "markdown",
   "metadata": {},
   "source": [
    "Here we loop through the interval defined in the parameter range, $[-\\pi, \\pi]$ and find the minimum energy. A value of $0.2252$ or $g_0$ is calculated as this code doesn't yet implement the averaging. We don't do any classical optimization here in this simple example but in principle we could add it here. \n",
    "\n",
    "\n",
    "## **Mapping outcome states to values**\n",
    "\n",
    "To actually compute the average of a Hamiltonian term, we need to know how the outcomes of the measurement $00, 01, 10, 11$ that Qiskit uses correspond to the actual real valued outcomes $+1, -1$ for a particular observable like $Z_0$ or $Z_0 Z_1$ we measure. Without discussing this at length here, we are going to introduce dictionaries that record the mapping for each observable. Of course, there are other ways to implement this."
   ]
  },
  {
   "cell_type": "code",
   "execution_count": 45,
   "metadata": {},
   "outputs": [
    {
     "name": "stdout",
     "output_type": "stream",
     "text": [
      "Submitted job ID: 1ae76011-9adb-42ad-b480-427ff6f2716c.\n",
      "Submitted job ID: 0295dbc3-0bfe-43a8-bce3-2dd40b35d5ff.\n",
      "Submitted job ID: e8ff1f6b-b88d-4577-b417-98c5973d6d50.\n",
      "Submitted job ID: b109bb78-28aa-4610-a6f7-a3b17fb6c00d.\n",
      "Submitted job ID: d438f5fe-0e79-4d36-8303-5c12354ee49e.\n",
      "-45.786435000000004\n"
     ]
    }
   ],
   "source": [
    "# map outcome states to outcome values\n",
    "obs = [\n",
    "    {\"00\": 1, \"10\": 1, \"01\": -1, \"11\": -1},  # 1 x Z\n",
    "    {\"00\": 1, \"10\": -1, \"01\": 1, \"11\": -1},  # Z x 1\n",
    "    {\"00\": 1, \"10\": -1, \"01\": -1, \"11\": 1},  # Z x Z\n",
    "    {\"00\": 1, \"10\": -1, \"01\": -1, \"11\": 1},  # Y x Y\n",
    "    {\"00\": 1, \"10\": -1, \"01\": -1, \"11\": 1},\n",
    "]  # X x X\n",
    "\n",
    "ansatz_circuit = create_ansatz_circuit(q, c, theta)\n",
    "ham_mini_circuits = paulis_to_measure_circ(q, c, hamiltonian)\n",
    "\n",
    "\n",
    "h_avg = get_ham_avg(\n",
    "    theta,\n",
    "    param_range,\n",
    "    ansatz_circuit,\n",
    "    g_coeff,\n",
    "    ham_mini_circuits,\n",
    "    obs,\n",
    "    shots,\n",
    "    backend_sim,\n",
    ")\n",
    "\n",
    "print(h_avg)\n",
    "\n",
    "# scan theta domain [-pi, pi]\n",
    "# for x in param_range:\n",
    "#     h_avg += g_coeff_id        # add coeff of id term\n",
    "#     graph.append(h_avg)        # collect data for plotting\n",
    "#     if h_avg < h_min:           # record min value\n",
    "#         h_min = h_avg\n",
    "\n",
    "# print(\"\\nH_min =\", h_min)"
   ]
  },
  {
   "cell_type": "markdown",
   "metadata": {},
   "source": [
    "The function to get the hamiltonian average iterates over all of the mini circuits we created before. Each mini circuit is combined with the ansatz circuit, running it, collecting the statistics and computing the average for the term.\n",
    "\n",
    "Also implemented is the function to calculate the Pauli string average energy. \n",
    "\n",
    "Running this code brings us a result that is close to the one obtained in the paper. It can be compared with Figure 3 with a Bond angle $R = 0.75$. \n",
    "\n",
    "<img src=\"img/lj-vqe-h2.png\" alt=\"H2 energy curve. Source arXiv 1512.06860v2\" title=\"H2 energu curve. Source arXiv 1512.06860v2\" style=\"width: 700px;\"/>"
   ]
  },
  {
   "cell_type": "markdown",
   "metadata": {},
   "source": [
    "## **Using a pre-built function**"
   ]
  },
  {
   "cell_type": "code",
   "execution_count": null,
   "metadata": {},
   "outputs": [],
   "source": [
    "from qiskit.primitives import Estimator\n",
    "from qiskit.quantum_info import SparsePauliOp\n",
    "from qiskit_algorithms.optimizers import COBYLA\n",
    "\n",
    "estimator = Estimator(options={\"shots\": 1000})\n",
    "\n",
    "\n",
    "theta = Parameter(\"θ\")\n",
    "q = QuantumRegister(2)\n",
    "c = ClassicalRegister(2)\n",
    "\n",
    "ansatz_circuit = create_ansatz_circuit(q, c, theta)\n",
    "\n",
    "\n",
    "optimizer = COBYLA(maxiter=1000)"
   ]
  },
  {
   "cell_type": "code",
   "execution_count": null,
   "metadata": {},
   "outputs": [],
   "source": [
    "ansatz_circuit.draw(\"mpl\")"
   ]
  },
  {
   "cell_type": "code",
   "execution_count": null,
   "metadata": {},
   "outputs": [],
   "source": [
    "H2_op = SparsePauliOp.from_list(\n",
    "    [\n",
    "        (\"II\", 0.2252),\n",
    "        (\"IZ\", 0.3435),\n",
    "        (\"ZI\", -0.4347),\n",
    "        (\"ZZ\", 0.5716),\n",
    "        (\"XX\", 0.091),\n",
    "        (\"YY\", 0.091),\n",
    "    ]\n",
    ")"
   ]
  },
  {
   "cell_type": "code",
   "execution_count": null,
   "metadata": {},
   "outputs": [],
   "source": [
    "from qiskit_algorithms import VQE\n",
    "\n",
    "vqe = VQE(estimator, ansatz_circuit, optimizer)\n",
    "result = vqe.compute_minimum_eigenvalue(H2_op)\n",
    "print(result)"
   ]
  },
  {
   "cell_type": "markdown",
   "metadata": {},
   "source": []
  }
 ],
 "metadata": {
  "kernelspec": {
   "display_name": "helmi-cocos",
   "language": "python",
   "name": "python3"
  },
  "language_info": {
   "codemirror_mode": {
    "name": "ipython",
    "version": 3
   },
   "file_extension": ".py",
   "mimetype": "text/x-python",
   "name": "python",
   "nbconvert_exporter": "python",
   "pygments_lexer": "ipython3",
   "version": "3.10.10"
  }
 },
 "nbformat": 4,
 "nbformat_minor": 2
}
