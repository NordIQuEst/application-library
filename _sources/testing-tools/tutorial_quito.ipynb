{
 "cells": [
  {
   "cell_type": "markdown",
   "id": "61783c18",
   "metadata": {},
   "source": [
    "# Welcome to Quito!"
   ]
  },
  {
   "cell_type": "markdown",
   "id": "52af0b48",
   "metadata": {},
   "source": [
    "## Description"
   ]
  },
  {
   "cell_type": "markdown",
   "id": "300ff571",
   "metadata": {},
   "source": [
    "Automation in quantum software testing is essential to support systematic and cost-effective testing. Towards this direction, here we introduce a quantum software testing tool called Quito that can automatically generate test suites covering three coverage criteria defined on inputs and outputs of a quantum program coded in Qiskit, i.e., input coverage, output coverage, and input-output coverage. Quito also implements two types of test oracles based on program specifications, i.e., checking whether a quantum program produced a wrong output or checking a probabilistic test oracle with statistical test."
   ]
  },
  {
   "cell_type": "markdown",
   "id": "93fc857f",
   "metadata": {},
   "source": [
    "### Coverage Criteria\n",
    "Users select one of three below coverage criteria to run Quito.\n",
    "- Input Coverage\n",
    "- Output Coverage\n",
    "- Input-Output Coverage"
   ]
  },
  {
   "cell_type": "markdown",
   "id": "aec548ae",
   "metadata": {},
   "source": [
    "### Test oracles\n",
    "Quito evaluates the results according to the two test oracles that have been proposed in <a href=\"https://ieeexplore.ieee.org/abstract/document/9438603\">this paper</a>:\n",
    "- WOO: Whether an observed output is correct according to program specification. If not, the program is failed;\n",
    "- OPO: If all the observed outputs corresponding to an input are valid, then it compares their observed probabilities with the ones specified in the Program Specification file. If the differences are statistically significant (i.e., a p-value lower than the chosen significance level), the program is failed."
   ]
  },
  {
   "cell_type": "markdown",
   "id": "9162f5ab",
   "metadata": {},
   "source": [
    "## How to use Quito\n",
    "Please prepare the **quantum program file** and the **configuration file**, then input them into the Quito tool. Here we introduce the example algorithm *Swap Test*, and the introduce the structure of the two input files."
   ]
  },
  {
   "cell_type": "markdown",
   "id": "3716b210",
   "metadata": {},
   "source": [
    "### Example Algorithm Swap Test."
   ]
  },
  {
   "cell_type": "markdown",
   "id": "e16f900b-a5f0-48a8-b2fb-19df52e3bc91",
   "metadata": {},
   "source": [
    "Let's take **Swap Test** algorithm as an example! This algorithm is used to check how much two quantum states differ.\n",
    "The following shows the corresponding Qiskit code of this algorithm, including generating the visualized circuit diagram and execution result."
   ]
  },
  {
   "cell_type": "code",
   "execution_count": 1,
   "id": "10d1a181",
   "metadata": {},
   "outputs": [
    {
     "data": {
      "text/plain": "<Figure size 556.56x367.889 with 1 Axes>",
      "image/png": "[encoded data removed]"
     },
     "execution_count": 1,
     "metadata": {},
     "output_type": "execute_result"
    }
   ],
   "source": [
    "from qiskit import ClassicalRegister, QuantumCircuit, QuantumRegister\n",
    "from qiskit_aer import AerSimulator\n",
    "\n",
    "q = QuantumRegister(3)\n",
    "c = ClassicalRegister(1)\n",
    "qc = QuantumCircuit(q, c)\n",
    "qc.h(2)\n",
    "qc.cswap(2, 0, 1)\n",
    "qc.h(2)\n",
    "qc.x(2)\n",
    "\n",
    "qc.measure(2, 0)\n",
    "\n",
    "qc.draw(output=\"mpl\")"
   ]
  },
  {
   "cell_type": "code",
   "execution_count": 2,
   "id": "f44a9e7f",
   "metadata": {},
   "outputs": [
    {
     "data": {
      "text/plain": [
       "{'1': 1024}"
      ]
     },
     "execution_count": 2,
     "metadata": {},
     "output_type": "execute_result"
    }
   ],
   "source": [
    "simulator = AerSimulator()\n",
    "result = simulator.run(qc, shots=1024).result()\n",
    "counts = result.get_counts(qc)"
   ]
  },
  {
   "cell_type": "markdown",
   "id": "2367227c",
   "metadata": {},
   "source": [
    "### Quantum Program File\n",
    "Here we show the structure of this input file:\n",
    "- The quantum program should be written with Qiskit in Python.\n",
    "- The code has to be structured in a function named as 'run' with one parameter that refers to the quantum circuit.\n",
    "- Users only need to add gates to the circuit and measure output qubits to get the output. They don't need to set any register, initialize circuits, choose the simulation, or execute the circuits in 'run' function."
   ]
  },
  {
   "cell_type": "raw",
   "id": "abe20a3e",
   "metadata": {},
   "source": [
    "def run(qc):\n",
    "    qc.gate(...)\n",
    "\n",
    "    qc.measure(...)"
   ]
  },
  {
   "cell_type": "markdown",
   "id": "ba21263c",
   "metadata": {},
   "source": [
    "### Example Quantum Program File\n",
    "Here is the corresponding quantum program file of *SWAP.py* for Quito."
   ]
  },
  {
   "cell_type": "code",
   "execution_count": 3,
   "id": "acb54f83",
   "metadata": {},
   "outputs": [],
   "source": [
    "def run(qc):\n",
    "    qc.h(2)\n",
    "    qc.cswap(2, 0, 1)\n",
    "    qc.h(2)\n",
    "    qc.x(2)\n",
    "\n",
    "    qc.measure(2, 0)"
   ]
  },
  {
   "cell_type": "markdown",
   "id": "1e4333fe",
   "metadata": {},
   "source": [
    "### Configuration File\n",
    "Here we show the structure of this the program configuration file. It is an INI file, which contains four sections defined by headers enclosed in brackets [ ] and contains several properties represented by key-value pairs, called properties. This configuration file describes the program information, Quito execution information and program specification of the algorithm under test. Some properties are required and some properties are optional."
   ]
  },
  {
   "cell_type": "raw",
   "id": "a40939d2",
   "metadata": {},
   "source": [
    "[program]\n",
    "root=\n",
    ";(Required)\n",
    ";Description: The absolute root of your quantum program file.\n",
    "num_qubit=\n",
    ";(Required)\n",
    ";Description: The total number of qubits of your quantum program.\n",
    "inputID=\n",
    ";(Required)\n",
    ";Description: The ID of input qubits.\n",
    ";Format: A non-repeating sequence separated by commas.\n",
    "outputID=\n",
    ";(Required)\n",
    ";Description: The ID of output qubits which are the qubits to be measured.\n",
    ";Format: A non-repeating sequence separated by commas.\n",
    "\n",
    "[program_specification_category]\n",
    "ps_category=\n",
    ";(Required)\n",
    ";Description: The category of your program specification.\n",
    ";Choice: full/partial/no\n",
    "\n",
    "[quito_configuration]\n",
    "coverage_criterion=\n",
    ";Description: The coverage criterion you choose.\n",
    ";Choice: IC/OC/IOC\n",
    "K=\n",
    ";(Optional)\n",
    ";Description: The total number of test suites, K=200 by default.\n",
    "M=\n",
    ";(Optional)\n",
    ";Description: The number of test suite groups, M=20 by default.\n",
    "BUDGET=\n",
    ";(Optional)\n",
    ";Description: The budget of the number of test cases in one test suite, BUDGET=10*number of inputs by default.\n",
    "confidence_level=\n",
    ";(Optional)\n",
    ";Description: The confidence level for statistical test, confidence_level=0.01 by default.\n",
    "statistical_test=one-sample Wilcoxon signed rank test   \n",
    ";(Optional)\n",
    ";Description: The statistical test for assessment, statistical_test=one-sample Wilcoxon signed rank test by default.\n",
    "\n",
    "[program_specification]\n",
    ";(Required for full and partial program specification)\n",
    ";Description: The program specification.\n",
    ";Format:input string,output string=probability"
   ]
  },
  {
   "cell_type": "markdown",
   "id": "dd85a36f",
   "metadata": {},
   "source": [
    "Here is the corresponding configuration file for **Swap Test** algorithm."
   ]
  },
  {
   "cell_type": "raw",
   "id": "1d702e12",
   "metadata": {},
   "source": [
    "[program]\n",
    "root=/home/user/SWAP.py\n",
    "num_qubit=3\n",
    "inputID=0,1\n",
    "outputID=2\n",
    "\n",
    "[program_specification_category]\n",
    "ps_category=full\n",
    "\n",
    "[quito_configuration]\n",
    "coverage_criterion=IC\n",
    "K=200\n",
    "M=10\n",
    "BUDGET=20\n",
    "confidence_level=0.01\n",
    "statistical_test=one-sample Wilcoxon signed rank test    \n",
    "\n",
    "[program_specification]\n",
    "01,1=0.5\n",
    "01,0=0.5\n",
    "00,1=1\n",
    "11,1=1\n",
    "10,1=0.5\n",
    "10,0=0.5"
   ]
  },
  {
   "cell_type": "markdown",
   "id": "4152f6e8",
   "metadata": {},
   "source": [
    "### Test with Quito Directly"
   ]
  },
  {
   "cell_type": "markdown",
   "id": "1f0a9077",
   "metadata": {},
   "source": [
    "Import quito and use quito method directly. The parameter is the absolute path of the configuration file."
   ]
  },
  {
   "cell_type": "code",
   "execution_count": 10,
   "id": "27b5b84c",
   "metadata": {},
   "outputs": [],
   "source": [
    "from quito.quito_coverage import quito\n",
    "\n",
    "quito(\"/home/user/configuration.ini\")"
   ]
  },
  {
   "cell_type": "markdown",
   "id": "9072a46b",
   "metadata": {},
   "source": [
    "We can check the process bar to see whether quito is running. After the whole process is finished, you can find the result file in a folder named **\"result\"**, which is located in the same directory of the **quantum program file**."
   ]
  },
  {
   "cell_type": "markdown",
   "id": "77690117",
   "metadata": {},
   "source": [
    "### Submit with by Slurm Job"
   ]
  },
  {
   "cell_type": "markdown",
   "id": "2b4f8e5e",
   "metadata": {},
   "source": [
    "Please first create an **executing file** and a **slurm file** to run the experiment."
   ]
  },
  {
   "cell_type": "markdown",
   "id": "66432653",
   "metadata": {},
   "source": [
    "Here is the executing file *quito_test.py*."
   ]
  },
  {
   "cell_type": "code",
   "execution_count": null,
   "id": "3b150a23",
   "metadata": {},
   "outputs": [],
   "source": [
    "import time\n",
    "\n",
    "from quito.quito_coverage import quito\n",
    "\n",
    "start = time.time()\n",
    "i = 0\n",
    "quito(\"/home/user/configuration.ini\")\n",
    "end = time.time()\n",
    "\n",
    "print(end - start)"
   ]
  },
  {
   "cell_type": "markdown",
   "id": "51331353",
   "metadata": {},
   "source": [
    "Here is the slurm file. It shows the configuration of running on a CPU node."
   ]
  },
  {
   "cell_type": "raw",
   "id": "62afe73f",
   "metadata": {},
   "source": [
    "#!/bin/bash\n",
    "#SBATCH -p defq\n",
    "#SBATCH --job-name=Quito_CPU\n",
    "#SBATCH -n 10\n",
    "#SBATCH --time 00-1:00:00    # time (D-HH:MM:SS)\n",
    "module purge\n",
    "module load slurm/slurm/21.08.8\n",
    "module use /cm/shared/ex3-qc-modules/modulefiles\n",
    "module load quito/quito-py311-1.0.3\n",
    "export PYTHONPATH=root_path:$PYTHONPATH\n",
    "srun python quito_test.py"
   ]
  },
  {
   "cell_type": "markdown",
   "id": "aa7c4b7d",
   "metadata": {},
   "source": [
    "The following is the version of configuration file running on a GPU node."
   ]
  },
  {
   "cell_type": "raw",
   "id": "ecdb0ffe",
   "metadata": {},
   "source": [
    "#!/bin/bash\n",
    "#SBATCH -p dgx2q\n",
    "#SBATCH --job-name=Quito_GPU\n",
    "#SBATCH -n 10\n",
    "#SBATCH --gres=gpu:1\n",
    "#SBATCH --time 00-1:00:00    # time (D-HH:MM:SS)\n",
    "module purge\n",
    "module load slurm/slurm/21.08.8\n",
    "module use /cm/shared/ex3-qc-modules/modulefiles\n",
    "module load quito/quito-py311-cu118-1.0\n",
    "export PYTHONPATH=root_path:$PYTHONPATH\n",
    "srun python quito_test.py"
   ]
  },
  {
   "cell_type": "markdown",
   "id": "76d85a45",
   "metadata": {},
   "source": [
    "Please prepare the following files before submitting to the eX3.\n",
    "\n",
    "- quantum program file\n",
    "- configuration file\n",
    "- executing file\n",
    "- slurm file\n",
    "\n",
    "Run the following code to submit the job."
   ]
  },
  {
   "cell_type": "code",
   "execution_count": 9,
   "id": "1214a583",
   "metadata": {},
   "outputs": [
    {
     "name": "stdout",
     "output_type": "stream",
     "text": [
      "Submitted batch job 293033\n"
     ]
    },
    {
     "data": {
      "text/plain": [
       "0"
      ]
     },
     "execution_count": 9,
     "metadata": {},
     "output_type": "execute_result"
    }
   ],
   "source": [
    "import os\n",
    "\n",
    "command = \"sbatch /home/user/quito.slurm\"\n",
    "os.system(command)"
   ]
  },
  {
   "cell_type": "markdown",
   "id": "d2cef420",
   "metadata": {},
   "source": [
    "It will print the job number after a successful submission. You can check the running statu by using the \"squeue\" command. After completing the execution, you can check the file *slurm-[job number].out* to know the the execution time. Result files can be found in the same directory of the quantum program file."
   ]
  }
 ],
 "metadata": {
  "kernelspec": {
   "display_name": "Python 3 (ipykernel)",
   "language": "python",
   "name": "python3"
  },
  "language_info": {
   "codemirror_mode": {
    "name": "ipython",
    "version": 3
   },
   "file_extension": ".py",
   "mimetype": "text/x-python",
   "name": "python",
   "nbconvert_exporter": "python",
   "pygments_lexer": "ipython3",
   "version": "3.9.12"
  }
 },
 "nbformat": 4,
 "nbformat_minor": 5
}
