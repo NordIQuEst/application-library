{
 "cells": [
  {
   "cell_type": "markdown",
   "id": "61783c18",
   "metadata": {},
   "source": [
    "# Welcome to QuCAT!"
   ]
  },
  {
   "cell_type": "markdown",
   "id": "52af0b48",
   "metadata": {},
   "source": [
    "## Description"
   ]
  },
  {
   "cell_type": "markdown",
   "id": "300ff571",
   "metadata": {},
   "source": [
    "With the increased developments in quantum computing, the availability of systematic and automatic testing approaches for quantum programs is becoming more and more essential. Here we introduce the quantum software testing tool QuCAT for combinatorial testing of quantum programs. QuCAT provides two functionalities of use. With the first functionality, the tool generates a test suite of a given strength (e.g., pair-wise). With the second functionality, it generates test suites with increasing strength until a failure is triggered or a maximum strength is reached. QuCAT uses two test oracles to check the correctness of test outputs, which is Unexpected Output Failure (uof) and Wrong Output Distribution Failure (wodf)."
   ]
  },
  {
   "cell_type": "markdown",
   "id": "aec548ae",
   "metadata": {},
   "source": [
    "### Test oracles\n",
    "\n",
    "- uof:  the output returned by the program for a given input is not allowed by the program specification;\n",
    "- wodf: the output values returned by multiple executions for a given input follow a probability distribution significantly different from the one specified by the program specification."
   ]
  },
  {
   "cell_type": "markdown",
   "id": "0cc35653",
   "metadata": {},
   "source": [
    "### Two functioinalities\n",
    "- Functionality One: the user specifies a strength k, and generates a test suite Tk for that strength. They can then assess the passing and failing of tests.\n",
    "- Functionality Two: QuCAT keeps on generating test suites of incremental strength, till a failure is detected, or a maximum k is reached."
   ]
  },
  {
   "cell_type": "markdown",
   "id": "9162f5ab",
   "metadata": {},
   "source": [
    "## How to use QuCAT\n",
    "Please prepare the **quantum program file** and the **configuration file**, then input them into the QuCAT tool. Here we introduce the example algorithm *QRAM*, and the introduce the structure of the two input files."
   ]
  },
  {
   "cell_type": "markdown",
   "id": "3716b210",
   "metadata": {},
   "source": [
    "### Example Algorithm QRAM."
   ]
  },
  {
   "cell_type": "markdown",
   "id": "e16f900b-a5f0-48a8-b2fb-19df52e3bc91",
   "metadata": {},
   "source": [
    "Let's take **QRAM** algorithm as an example! This algorithm uses quantum computing principles to store and modify quantum or classical data efficiently."
   ]
  },
  {
   "cell_type": "code",
   "execution_count": 2,
   "id": "10d1a181",
   "metadata": {},
   "outputs": [
    {
     "data": {
      "text/html": [
       "<pre style=\"word-wrap: normal;white-space: pre;background: #fff0;line-height: 1.1;font-family: &quot;Courier New&quot;,Courier,monospace\">                            ░              ░              ░                »\n",
       " q1_0: ─────────────────────░──────────────░──X───────────░───■────■────■──»\n",
       "                            ░              ░  │           ░   │    │  ┌─┴─┐»\n",
       " q1_1: ─────────────────────░──────────────░──┼──X────────░───■────■──┤ X ├»\n",
       "                            ░              ░  │  │        ░   │  ┌─┴─┐└───┘»\n",
       " q1_2: ─────────────────────░──────────────░──┼──┼──X─────░───■──┤ X ├─────»\n",
       "                            ░              ░  │  │  │     ░ ┌─┴─┐└───┘     »\n",
       " q1_3: ─────────────────────░──────────────░──┼──┼──┼──X──░─┤ X ├──────────»\n",
       "       ┌───┐┌────────┐┌───┐ ░              ░  │  │  │  │  ░ └───┘          »\n",
       " q1_4: ┤ H ├┤ P(π/3) ├┤ H ├─░──■──■──■──■──░──┼──┼──┼──┼──░────────────────»\n",
       "       └───┘└────────┘└───┘ ░  │  │  │  │  ░  │  │  │  │  ░                »\n",
       " q1_5: ─────────────────────░──X──┼──┼──┼──░──X──┼──┼──┼──░────────────────»\n",
       "                            ░  │  │  │  │  ░     │  │  │  ░                »\n",
       " q1_6: ─────────────────────░──┼──X──┼──┼──░─────X──┼──┼──░────────────────»\n",
       "                            ░  │  │  │  │  ░        │  │  ░                »\n",
       " q1_7: ─────────────────────░──┼──┼──X──┼──░────────X──┼──░────────────────»\n",
       "                            ░  │  │  │  │  ░           │  ░                »\n",
       " q1_8: ─────────────────────░──┼──┼──┼──X──░───────────X──░────────────────»\n",
       "                            ░  │  │  │  │  ░              ░                »\n",
       " q1_9: ─────────────────────░──X──┼──┼──┼──░──────────────░────────────────»\n",
       "                            ░     │  │  │  ░              ░                »\n",
       "q1_10: ─────────────────────░─────X──┼──┼──░──────────────░────────────────»\n",
       "                            ░        │  │  ░              ░                »\n",
       "q1_11: ─────────────────────░────────X──┼──░──────────────░────────────────»\n",
       "                            ░           │  ░              ░                »\n",
       "q1_12: ─────────────────────░───────────X──░──────────────░────────────────»\n",
       "                            ░              ░              ░                »\n",
       " c1: 4/════════════════════════════════════════════════════════════════════»\n",
       "                                                                           »\n",
       "«       ┌───┐ ░ ┌─┐         \n",
       "« q1_0: ┤ X ├─░─┤M├─────────\n",
       "«       └───┘ ░ └╥┘┌─┐      \n",
       "« q1_1: ──────░──╫─┤M├──────\n",
       "«             ░  ║ └╥┘┌─┐   \n",
       "« q1_2: ──────░──╫──╫─┤M├───\n",
       "«             ░  ║  ║ └╥┘┌─┐\n",
       "« q1_3: ──────░──╫──╫──╫─┤M├\n",
       "«             ░  ║  ║  ║ └╥┘\n",
       "« q1_4: ──────░──╫──╫──╫──╫─\n",
       "«             ░  ║  ║  ║  ║ \n",
       "« q1_5: ──────░──╫──╫──╫──╫─\n",
       "«             ░  ║  ║  ║  ║ \n",
       "« q1_6: ──────░──╫──╫──╫──╫─\n",
       "«             ░  ║  ║  ║  ║ \n",
       "« q1_7: ──────░──╫──╫──╫──╫─\n",
       "«             ░  ║  ║  ║  ║ \n",
       "« q1_8: ──────░──╫──╫──╫──╫─\n",
       "«             ░  ║  ║  ║  ║ \n",
       "« q1_9: ──────░──╫──╫──╫──╫─\n",
       "«             ░  ║  ║  ║  ║ \n",
       "«q1_10: ──────░──╫──╫──╫──╫─\n",
       "«             ░  ║  ║  ║  ║ \n",
       "«q1_11: ──────░──╫──╫──╫──╫─\n",
       "«             ░  ║  ║  ║  ║ \n",
       "«q1_12: ──────░──╫──╫──╫──╫─\n",
       "«             ░  ║  ║  ║  ║ \n",
       "« c1: 4/═════════╩══╩══╩══╩═\n",
       "«                0  1  2  3 </pre>"
      ],
      "text/plain": [
       "                            ░              ░              ░                »\n",
       " q1_0: ─────────────────────░──────────────░──X───────────░───■────■────■──»\n",
       "                            ░              ░  │           ░   │    │  ┌─┴─┐»\n",
       " q1_1: ─────────────────────░──────────────░──┼──X────────░───■────■──┤ X ├»\n",
       "                            ░              ░  │  │        ░   │  ┌─┴─┐└───┘»\n",
       " q1_2: ─────────────────────░──────────────░──┼──┼──X─────░───■──┤ X ├─────»\n",
       "                            ░              ░  │  │  │     ░ ┌─┴─┐└───┘     »\n",
       " q1_3: ─────────────────────░──────────────░──┼──┼──┼──X──░─┤ X ├──────────»\n",
       "       ┌───┐┌────────┐┌───┐ ░              ░  │  │  │  │  ░ └───┘          »\n",
       " q1_4: ┤ H ├┤ P(π/3) ├┤ H ├─░──■──■──■──■──░──┼──┼──┼──┼──░────────────────»\n",
       "       └───┘└────────┘└───┘ ░  │  │  │  │  ░  │  │  │  │  ░                »\n",
       " q1_5: ─────────────────────░──X──┼──┼──┼──░──X──┼──┼──┼──░────────────────»\n",
       "                            ░  │  │  │  │  ░     │  │  │  ░                »\n",
       " q1_6: ─────────────────────░──┼──X──┼──┼──░─────X──┼──┼──░────────────────»\n",
       "                            ░  │  │  │  │  ░        │  │  ░                »\n",
       " q1_7: ─────────────────────░──┼──┼──X──┼──░────────X──┼──░────────────────»\n",
       "                            ░  │  │  │  │  ░           │  ░                »\n",
       " q1_8: ─────────────────────░──┼──┼──┼──X──░───────────X──░────────────────»\n",
       "                            ░  │  │  │  │  ░              ░                »\n",
       " q1_9: ─────────────────────░──X──┼──┼──┼──░──────────────░────────────────»\n",
       "                            ░     │  │  │  ░              ░                »\n",
       "q1_10: ─────────────────────░─────X──┼──┼──░──────────────░────────────────»\n",
       "                            ░        │  │  ░              ░                »\n",
       "q1_11: ─────────────────────░────────X──┼──░──────────────░────────────────»\n",
       "                            ░           │  ░              ░                »\n",
       "q1_12: ─────────────────────░───────────X──░──────────────░────────────────»\n",
       "                            ░              ░              ░                »\n",
       " c1: 4/════════════════════════════════════════════════════════════════════»\n",
       "                                                                           »\n",
       "«       ┌───┐ ░ ┌─┐         \n",
       "« q1_0: ┤ X ├─░─┤M├─────────\n",
       "«       └───┘ ░ └╥┘┌─┐      \n",
       "« q1_1: ──────░──╫─┤M├──────\n",
       "«             ░  ║ └╥┘┌─┐   \n",
       "« q1_2: ──────░──╫──╫─┤M├───\n",
       "«             ░  ║  ║ └╥┘┌─┐\n",
       "« q1_3: ──────░──╫──╫──╫─┤M├\n",
       "«             ░  ║  ║  ║ └╥┘\n",
       "« q1_4: ──────░──╫──╫──╫──╫─\n",
       "«             ░  ║  ║  ║  ║ \n",
       "« q1_5: ──────░──╫──╫──╫──╫─\n",
       "«             ░  ║  ║  ║  ║ \n",
       "« q1_6: ──────░──╫──╫──╫──╫─\n",
       "«             ░  ║  ║  ║  ║ \n",
       "« q1_7: ──────░──╫──╫──╫──╫─\n",
       "«             ░  ║  ║  ║  ║ \n",
       "« q1_8: ──────░──╫──╫──╫──╫─\n",
       "«             ░  ║  ║  ║  ║ \n",
       "« q1_9: ──────░──╫──╫──╫──╫─\n",
       "«             ░  ║  ║  ║  ║ \n",
       "«q1_10: ──────░──╫──╫──╫──╫─\n",
       "«             ░  ║  ║  ║  ║ \n",
       "«q1_11: ──────░──╫──╫──╫──╫─\n",
       "«             ░  ║  ║  ║  ║ \n",
       "«q1_12: ──────░──╫──╫──╫──╫─\n",
       "«             ░  ║  ║  ║  ║ \n",
       "« c1: 4/═════════╩══╩══╩══╩═\n",
       "«                0  1  2  3 "
      ]
     },
     "execution_count": 2,
     "metadata": {},
     "output_type": "execute_result"
    }
   ],
   "source": [
    "import math\n",
    "\n",
    "from qiskit import ClassicalRegister, QuantumCircuit, QuantumRegister\n",
    "from qiskit_aer import AerSimulator\n",
    "\n",
    "q = QuantumRegister(13)\n",
    "c = ClassicalRegister(4)\n",
    "qc = QuantumCircuit(q, c)\n",
    "qc.h(4)\n",
    "qc.p(math.pi / 3, 4)\n",
    "qc.h(4)\n",
    "\n",
    "qc.barrier()\n",
    "\n",
    "qc.cswap(4, 5, 9)\n",
    "qc.cswap(4, 6, 10)\n",
    "qc.cswap(4, 7, 11)\n",
    "qc.cswap(4, 8, 12)\n",
    "\n",
    "qc.barrier()\n",
    "\n",
    "qc.swap(0, 5)\n",
    "qc.swap(1, 6)\n",
    "qc.swap(2, 7)\n",
    "qc.swap(3, 8)\n",
    "\n",
    "qc.barrier()\n",
    "\n",
    "qc.mcx([0, 1, 2], 3)\n",
    "qc.mcx([0, 1], 2)\n",
    "qc.cx(0, 1)\n",
    "qc.x(0)\n",
    "\n",
    "qc.barrier()\n",
    "\n",
    "qc.measure([0, 1, 2, 3], [0, 1, 2, 3])\n",
    "\n",
    "qc.draw()"
   ]
  },
  {
   "cell_type": "code",
   "execution_count": 3,
   "id": "f44a9e7f",
   "metadata": {},
   "outputs": [
    {
     "data": {
      "text/plain": [
       "{'0001': 1024}"
      ]
     },
     "execution_count": 3,
     "metadata": {},
     "output_type": "execute_result"
    }
   ],
   "source": [
    "simulator = AerSimulator()\n",
    "result = simulator.run(qc, shots=1024).result()\n",
    "counts = result.get_counts(qc)"
   ]
  },
  {
   "cell_type": "markdown",
   "id": "2367227c",
   "metadata": {},
   "source": [
    "### Quantum Program File\n",
    "Here we show the structure of this input file:\n",
    "- The quantum program should be written with Qiskit in Python.\n",
    "- The code has to be structured in a function named as 'run' with one parameter that refers to the quantum circuit.\n",
    "- Users only need to add gates to the circuit and measure output qubits to get the output. They don't need to set any register, initialize circuits, choose the simulation, or execute the circuits in 'run' function."
   ]
  },
  {
   "cell_type": "raw",
   "id": "abe20a3e",
   "metadata": {},
   "source": [
    "def run(qc):\n",
    "    qc.gate(...)\n",
    "\n",
    "    qc.measure(...)"
   ]
  },
  {
   "cell_type": "markdown",
   "id": "ba21263c",
   "metadata": {},
   "source": [
    "### Example Quantum Program File\n",
    "Here is the corresponding quantum program file of *QRAM.py* for Quito."
   ]
  },
  {
   "cell_type": "code",
   "execution_count": 3,
   "id": "acb54f83",
   "metadata": {},
   "outputs": [],
   "source": [
    "import math\n",
    "\n",
    "\n",
    "def run(qc):\n",
    "    qc.h(4)\n",
    "    qc.p(math.pi / 3, 4)\n",
    "    qc.mcx([5, 7, 9, 11], 12)  # M3\n",
    "    qc.h(4)\n",
    "\n",
    "    qc.barrier()\n",
    "\n",
    "    qc.cswap(4, 5, 9)\n",
    "    qc.cswap(4, 6, 10)\n",
    "    qc.cswap(4, 7, 11)\n",
    "    qc.cswap(4, 8, 12)\n",
    "\n",
    "    qc.barrier()\n",
    "\n",
    "    qc.swap(0, 5)\n",
    "    qc.swap(1, 6)\n",
    "    qc.swap(2, 7)\n",
    "    qc.swap(3, 8)\n",
    "\n",
    "    qc.barrier()\n",
    "\n",
    "    qc.mcx([0, 1, 2], 3)\n",
    "    qc.mcx([0, 1], 2)\n",
    "    qc.cx(0, 1)\n",
    "    qc.x(0)\n",
    "\n",
    "    qc.barrier()\n",
    "\n",
    "    qc.measure([0, 1, 2, 3], [0, 1, 2, 3])"
   ]
  },
  {
   "cell_type": "markdown",
   "id": "1e4333fe",
   "metadata": {},
   "source": [
    "### Configuration File\n",
    "Here we show the structure of this the program configuration file. It is an INI file, which contains three sections defined by headers enclosed in brackets [ ] and contains several properties represented by key-value pairs, called properties. This configuration file describes the program information, QuCAT execution information and program specification of the algorithm under test. Some properties are required and some properties are optional."
   ]
  },
  {
   "cell_type": "raw",
   "id": "a40939d2",
   "metadata": {},
   "source": [
    "[program]\n",
    "root= \n",
    ";(Required)\n",
    ";Description: The absolute root of your quantum program file.\n",
    "num_qubit= \n",
    ";(Required)\n",
    ";Description: The total number of qubit of your quantum program.\n",
    "inputID= \n",
    ";(Required)\n",
    ";Description: The IDs of input qubits.\n",
    ";Format: A non-repeating sequence separated by commas.\n",
    "outputID= \n",
    ";(Required)\n",
    ";Description: The IDs of output qubits which are the qubits to be measured.\n",
    ";Format: A non-repeating sequence separated by commas\n",
    "\n",
    "[qucat_configuration]\n",
    "pict_root=\n",
    ";(Optional)\n",
    ";Description: The absolute root to run pict. If the root is added to system variable, users don't need to specify it. pict_root='.' by default.\n",
    "k=\n",
    ";(Optional)\n",
    ";Description: Order of combinations. In Functionality Two, it refers to the maximum value of strength. o = 2 by default. \n",
    "significance_level=\n",
    ";(Optional)\n",
    ";Description: The significance level for statistical test. significance_level = 0.01 by default.\n",
    "\n",
    "[program_specification]\n",
    ";Description: The program specification.\n",
    ";Format:input string (binary),output string (binary)=probability\n",
    ";Example:\n",
    ";00,1=0.5\n",
    ";00,0=0.5\n",
    ";01,1=0.5\n",
    ";01,0=0.5\n",
    ";or\n",
    ";0-,-=0.5\n",
    ";Attention: '-' can refer to both '0' and '1'."
   ]
  },
  {
   "cell_type": "markdown",
   "id": "dd85a36f",
   "metadata": {},
   "source": [
    "Here is the corresponding configuration file for **QRAM** algorithm. (The complete version can be found in [this repo](https://github.com/Simula-COMPLEX/qucat-tool/tree/main))"
   ]
  },
  {
   "cell_type": "raw",
   "id": "1d702e12",
   "metadata": {},
   "source": [
    "[program]\n",
    "root=/Users/user/qram.py\n",
    "num_qubit=13\n",
    "inputID=4,5,6,7,8,9,10,11,12\n",
    "outputID=0,1,2,3\n",
    "\n",
    "[qucat_configuration]\n",
    "pict_root=.\n",
    "k=4\n",
    "significance_level=0.01\n",
    "\n",
    "[program_specification]\n",
    "000000000,0001=1.0\n",
    "000000001,0001=1.0\n",
    "000000010,0001=0.24999999999999994\n",
    "000000010,0010=0.7500000000000001\n",
    "000000011,0001=0.7500000000000001\n",
    "..."
   ]
  },
  {
   "cell_type": "markdown",
   "id": "4152f6e8",
   "metadata": {},
   "source": [
    "### Test with QuCAT Directly"
   ]
  },
  {
   "cell_type": "markdown",
   "id": "1f0a9077",
   "metadata": {},
   "source": [
    "Import qucat and use qucat method directly. It contains three parameters: functionality choice (1 or 2), absolute path of the configuration file and the seed file."
   ]
  },
  {
   "cell_type": "code",
   "execution_count": 10,
   "id": "27b5b84c",
   "metadata": {},
   "outputs": [],
   "source": [
    "from qucat_cover.qucat_run import qucat\n",
    "\n",
    "qucat(1, \"qram_sample.ini\", \"QR_seed.txt\")"
   ]
  },
  {
   "cell_type": "markdown",
   "id": "9072a46b",
   "metadata": {},
   "source": [
    "We can check the process bar to see whether quito is running. After the whole process is finished, you can find the result file in a folder named **\"result\"**, which is located in the same directory of the **quantum program file**."
   ]
  },
  {
   "cell_type": "markdown",
   "id": "77690117",
   "metadata": {},
   "source": [
    "### Submit with by Slurm Job"
   ]
  },
  {
   "cell_type": "markdown",
   "id": "2b4f8e5e",
   "metadata": {},
   "source": [
    "Please first create an **executing file** and a **slurm file** to run the experiment."
   ]
  },
  {
   "cell_type": "markdown",
   "id": "9be74b3f",
   "metadata": {},
   "source": [
    "Here is the executing file *quito_test.py*."
   ]
  },
  {
   "cell_type": "code",
   "execution_count": null,
   "id": "3b150a23",
   "metadata": {},
   "outputs": [],
   "source": [
    "import time\n",
    "\n",
    "from qucat_cover.qucat_run import qucat\n",
    "\n",
    "start = time.time()\n",
    "i = 0\n",
    "qucat(1, \"qram_sample.ini\", \"QR_seed.txt\")\n",
    "end = time.time()\n",
    "\n",
    "print(end - start)"
   ]
  },
  {
   "cell_type": "markdown",
   "id": "e47f318a",
   "metadata": {},
   "source": [
    "Here is the slurm file. It shows the configuration of running on a CPU node."
   ]
  },
  {
   "cell_type": "raw",
   "id": "62afe73f",
   "metadata": {},
   "source": [
    "#!/bin/bash\n",
    "#SBATCH -p defq\n",
    "#SBATCH --job-name=QuCAT_CPU\n",
    "#SBATCH -n 10\n",
    "#SBATCH --time 00-1:00:00    # time (D-HH:MM:SS)\n",
    "module purge\n",
    "module load slurm/slurm/21.08.8\n",
    "module use /cm/shared/ex3-qc-modules/modulefiles\n",
    "module load qucat/qucat-cover-1.0.4\n",
    "export PYTHONPATH=root_path:$PYTHONPATH\n",
    "srun python qucat_test.py"
   ]
  },
  {
   "cell_type": "markdown",
   "id": "7c98e75a",
   "metadata": {},
   "source": [
    "The following is the version of configuration file running on a GPU node."
   ]
  },
  {
   "cell_type": "raw",
   "id": "5e869d9d",
   "metadata": {},
   "source": [
    "#!/bin/bash\n",
    "#SBATCH -p defq\n",
    "#SBATCH --job-name=QuCAT_GPU\n",
    "#SBATCH -n 10\n",
    "#SBATCH --gres=gpu:1\n",
    "#SBATCH --time 00-1:00:00    # time (D-HH:MM:SS)\n",
    "module purge\n",
    "module load slurm/slurm/21.08.8\n",
    "module use /cm/shared/ex3-qc-modules/modulefiles\n",
    "module load qucat/qucat-cover-gpu-1.0.0\n",
    "export PYTHONPATH=root_path:$PYTHONPATH\n",
    "srun python qucat_test.py"
   ]
  },
  {
   "cell_type": "markdown",
   "id": "76d85a45",
   "metadata": {},
   "source": [
    "Please prepare the following files before submitting to the eX3.\n",
    "\n",
    "- quantum program file\n",
    "- configuration file\n",
    "- executing file\n",
    "- slurm file\n",
    "\n",
    "Run the following code to submit the job."
   ]
  },
  {
   "cell_type": "code",
   "execution_count": 9,
   "id": "1214a583",
   "metadata": {},
   "outputs": [
    {
     "name": "stdout",
     "output_type": "stream",
     "text": [
      "Submitted batch job 293033\n"
     ]
    },
    {
     "data": {
      "text/plain": [
       "0"
      ]
     },
     "execution_count": 9,
     "metadata": {},
     "output_type": "execute_result"
    }
   ],
   "source": [
    "import os\n",
    "\n",
    "command = \"sbatch /home/user/qucat.slurm\"\n",
    "os.system(command)"
   ]
  },
  {
   "cell_type": "markdown",
   "id": "d2cef420",
   "metadata": {},
   "source": [
    "It will print the job number after a successful submission. You can check the running statu by using the \"squeue\" command. After completing the execution, you can check the file *slurm-[job number].out* to check the the execution time. Result files can be found in the same "
   ]
  }
 ],
 "metadata": {
  "kernelspec": {
   "display_name": "Python 3 (ipykernel)",
   "language": "python",
   "name": "python3"
  },
  "language_info": {
   "codemirror_mode": {
    "name": "ipython",
    "version": 3
   },
   "file_extension": ".py",
   "mimetype": "text/x-python",
   "name": "python",
   "nbconvert_exporter": "python",
   "pygments_lexer": "ipython3",
   "version": "3.9.12"
  }
 },
 "nbformat": 4,
 "nbformat_minor": 5
}
