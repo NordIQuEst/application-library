{
 "cells": [
  {
   "cell_type": "markdown",
   "id": "61783c18",
   "metadata": {},
   "source": [
    "# Welcome to QuSBT!"
   ]
  },
  {
   "cell_type": "markdown",
   "id": "52af0b48",
   "metadata": {},
   "source": [
    "## Description"
   ]
  },
  {
   "cell_type": "markdown",
   "id": "300ff571",
   "metadata": {},
   "source": [
    "Generating a test suite for a quantum program such that it has the maximum number of failing tests is an optimization problem. For such optimization, search-based testing has shown promising results in the context of classical programs. Here we introduce a test generation tool for quantum programs based on a genetic algorithm, called QuSBT (Search-based Testing of Quantum Programs). QuSBT automates the testing of quantum programs, with the aim of finding a test suite having the maximum number of failing test cases. QuSBT utilizes IBM’s Qiskit as the simulation framework for quantum programs."
   ]
  },
  {
   "cell_type": "markdown",
   "id": "aec548ae",
   "metadata": {},
   "source": [
    "### Test oracles\n",
    "\n",
    "- uof:  the output returned by the program for a given input is not allowed by the program specification;\n",
    "- wodf: the output values returned by multiple executions for a given input follow a probability distribution significantly different from the one specified by the program specification."
   ]
  },
  {
   "cell_type": "markdown",
   "id": "9162f5ab",
   "metadata": {},
   "source": [
    "## How to use QuSBT\n",
    "Please prepare the **quantum program file** and the **configuration file**, then input them into the QuSBT tool. Here we introduce the example algorithm *IQFT*, and the introduce the structure of the two input files."
   ]
  },
  {
   "cell_type": "markdown",
   "id": "3716b210",
   "metadata": {},
   "source": [
    "### Example Algorithm IQFT."
   ]
  },
  {
   "cell_type": "markdown",
   "id": "e16f900b-a5f0-48a8-b2fb-19df52e3bc91",
   "metadata": {},
   "source": [
    "Let's take **IQFT** algorithm as an example! This algorithm uses quantum computing principles to store and modify quantum or classical data efficiently."
   ]
  },
  {
   "cell_type": "code",
   "execution_count": 1,
   "id": "10d1a181",
   "metadata": {},
   "outputs": [
    {
     "data": {
      "text/html": [
       "<pre style=\"word-wrap: normal;white-space: pre;background: #fff0;line-height: 1.1;font-family: &quot;Courier New&quot;,Courier,monospace\">                                                                   ┌───┐ ░ »\n",
       " q0_0: ─────────────────■────■────■────■────■────■────■────■────■──┤ X ├─░─»\n",
       "                        │    │    │    │    │    │    │    │  ┌─┴─┐└─┬─┘ ░ »\n",
       " q0_1: ─────────────────■────■────■────■────■────■────■────■──┤ X ├──┼───░─»\n",
       "       ┌───┐┌────────┐  │    │    │    │    │    │    │  ┌─┴─┐└─┬─┘  │   ░ »\n",
       " q0_2: ┤ H ├┤ P(π/4) ├──■────■────■────■────■────■────■──┤ X ├──┼────┼───░─»\n",
       "       └───┘└────────┘  │    │    │    │    │    │  ┌─┴─┐└─┬─┘  │    │   ░ »\n",
       " q0_3: ─────────────────■────■────■────■────■────■──┤ X ├──┼────┼────┼───░─»\n",
       "                        │    │    │    │    │  ┌─┴─┐└─┬─┘  │    │    │   ░ »\n",
       " q0_4: ─────────────────■────■────■────■────■──┤ X ├──┼────┼────┼────┼───░─»\n",
       "                        │    │    │    │  ┌─┴─┐└─┬─┘  │    │    │    │   ░ »\n",
       " q0_5: ─────────────────■────■────■────■──┤ X ├──┼────┼────┼────┼────┼───░─»\n",
       "                        │    │    │  ┌─┴─┐└─┬─┘  │    │    │    │    │   ░ »\n",
       " q0_6: ─────────────────■────■────■──┤ X ├──┼────┼────┼────┼────┼────┼───░─»\n",
       "                        │    │  ┌─┴─┐└─┬─┘  │    │    │    │    │    │   ░ »\n",
       " q0_7: ─────────────────■────■──┤ X ├──┼────┼────┼────┼────┼────┼────┼───░─»\n",
       "                        │  ┌─┴─┐└─┬─┘  │    │    │    │    │    │    │   ░ »\n",
       " q0_8: ─────────────────■──┤ X ├──┼────┼────┼────┼────┼────┼────┼────┼───░─»\n",
       "                      ┌─┴─┐└─┬─┘  │    │    │    │    │    │    │    │   ░ »\n",
       " q0_9: ───────────────┤ X ├──┼────┼────┼────┼────┼────┼────┼────┼────┼───░─»\n",
       "       ┌───┐          └─┬─┘  │    │    │    │    │    │    │    │    │   ░ »\n",
       "q0_10: ┤ X ├────────────■────■────■────■────■────■────■────■────■────■───░─»\n",
       "       ├───┤┌────────┐                                                   ░ »\n",
       "q0_11: ┤ H ├┤ P(π/2) ├───────────────────────────────────────────────────░─»\n",
       "       └───┘└────────┘                                                   ░ »\n",
       "c0: 10/════════════════════════════════════════════════════════════════════»\n",
       "                                                                           »\n",
       "«                                                     ░                     »\n",
       "« q0_0: ──────────────────────────────────────────────░─────────────────────»\n",
       "«                                               ┌───┐ ░                     »\n",
       "« q0_1: ──■────■────■────■────■────■────■────■──┤ X ├─░───■────■────■────■──»\n",
       "«         │    │    │    │    │    │    │  ┌─┴─┐└─┬─┘ ░   │    │    │    │  »\n",
       "« q0_2: ──■────■────■────■────■────■────■──┤ X ├──┼───░───■────■────■────■──»\n",
       "«         │    │    │    │    │    │  ┌─┴─┐└─┬─┘  │   ░   │    │    │    │  »\n",
       "« q0_3: ──■────■────■────■────■────■──┤ X ├──┼────┼───░───■────■────■────■──»\n",
       "«         │    │    │    │    │  ┌─┴─┐└─┬─┘  │    │   ░   │    │    │    │  »\n",
       "« q0_4: ──■────■────■────■────■──┤ X ├──┼────┼────┼───░───■────■────■────■──»\n",
       "«         │    │    │    │  ┌─┴─┐└─┬─┘  │    │    │   ░   │    │    │    │  »\n",
       "« q0_5: ──■────■────■────■──┤ X ├──┼────┼────┼────┼───░───■────■────■────■──»\n",
       "«         │    │    │  ┌─┴─┐└─┬─┘  │    │    │    │   ░   │    │    │  ┌─┴─┐»\n",
       "« q0_6: ──■────■────■──┤ X ├──┼────┼────┼────┼────┼───░───■────■────■──┤ X ├»\n",
       "«         │    │  ┌─┴─┐└─┬─┘  │    │    │    │    │   ░   │    │  ┌─┴─┐└─┬─┘»\n",
       "« q0_7: ──■────■──┤ X ├──┼────┼────┼────┼────┼────┼───░───■────■──┤ X ├──┼──»\n",
       "«         │  ┌─┴─┐└─┬─┘  │    │    │    │    │    │   ░   │  ┌─┴─┐└─┬─┘  │  »\n",
       "« q0_8: ──■──┤ X ├──┼────┼────┼────┼────┼────┼────┼───░───■──┤ X ├──┼────┼──»\n",
       "«       ┌─┴─┐└─┬─┘  │    │    │    │    │    │    │   ░ ┌─┴─┐└─┬─┘  │    │  »\n",
       "« q0_9: ┤ X ├──┼────┼────┼────┼────┼────┼────┼────┼───░─┤ X ├──┼────┼────┼──»\n",
       "«       └─┬─┘  │    │    │    │    │    │    │    │   ░ └─┬─┘  │    │    │  »\n",
       "«q0_10: ──■────■────■────■────■────■────■────■────■───░───■────■────■────■──»\n",
       "«         │    │    │    │    │    │    │    │    │   ░   │    │    │    │  »\n",
       "«q0_11: ──■────■────■────■────■────■────■────■────■───░───■────■────■────■──»\n",
       "«                                                     ░                     »\n",
       "«c0: 10/════════════════════════════════════════════════════════════════════»\n",
       "«                                                                           »\n",
       "«                                 ░                                          ░ »\n",
       "« q0_0: ──────────────────────────░──────────────────────────────────────────░─»\n",
       "«                           ┌───┐ ░                                          ░ »\n",
       "« q0_1: ──■────■────■────■──┤ X ├─░──────────────────────────────────────────░─»\n",
       "«         │    │    │  ┌─┴─┐└─┬─┘ ░                                    ┌───┐ ░ »\n",
       "« q0_2: ──■────■────■──┤ X ├──┼───░───■────■────■────■────■────■────■──┤ X ├─░─»\n",
       "«         │    │  ┌─┴─┐└─┬─┘  │   ░   │    │    │    │    │    │  ┌─┴─┐└─┬─┘ ░ »\n",
       "« q0_3: ──■────■──┤ X ├──┼────┼───░───■────■────■────■────■────■──┤ X ├──┼───░─»\n",
       "«         │  ┌─┴─┐└─┬─┘  │    │   ░   │    │    │    │    │  ┌─┴─┐└─┬─┘  │   ░ »\n",
       "« q0_4: ──■──┤ X ├──┼────┼────┼───░───■────■────■────■────■──┤ X ├──┼────┼───░─»\n",
       "«       ┌─┴─┐└─┬─┘  │    │    │   ░   │    │    │    │  ┌─┴─┐└─┬─┘  │    │   ░ »\n",
       "« q0_5: ┤ X ├──┼────┼────┼────┼───░───■────■────■────■──┤ X ├──┼────┼────┼───░─»\n",
       "«       └─┬─┘  │    │    │    │   ░   │    │    │  ┌─┴─┐└─┬─┘  │    │    │   ░ »\n",
       "« q0_6: ──┼────┼────┼────┼────┼───░───■────■────■──┤ X ├──┼────┼────┼────┼───░─»\n",
       "«         │    │    │    │    │   ░   │    │  ┌─┴─┐└─┬─┘  │    │    │    │   ░ »\n",
       "« q0_7: ──┼────┼────┼────┼────┼───░───■────■──┤ X ├──┼────┼────┼────┼────┼───░─»\n",
       "«         │    │    │    │    │   ░   │  ┌─┴─┐└─┬─┘  │    │    │    │    │   ░ »\n",
       "« q0_8: ──┼────┼────┼────┼────┼───░───■──┤ X ├──┼────┼────┼────┼────┼────┼───░─»\n",
       "«         │    │    │    │    │   ░ ┌─┴─┐└─┬─┘  │    │    │    │    │    │   ░ »\n",
       "« q0_9: ──┼────┼────┼────┼────┼───░─┤ X ├──┼────┼────┼────┼────┼────┼────┼───░─»\n",
       "«         │    │    │    │    │   ░ └─┬─┘  │    │    │    │    │    │    │   ░ »\n",
       "«q0_10: ──■────■────■────■────■───░───┼────┼────┼────┼────┼────┼────┼────┼───░─»\n",
       "«         │    │    │    │    │   ░   │    │    │    │    │    │    │    │   ░ »\n",
       "«q0_11: ──■────■────■────■────■───░───■────■────■────■────■────■────■────■───░─»\n",
       "«                                 ░                                          ░ »\n",
       "«c0: 10/═══════════════════════════════════════════════════════════════════════»\n",
       "«                                                                              »\n",
       "«       ┌─┐                           \n",
       "« q0_0: ┤M├───────────────────────────\n",
       "«       └╥┘┌─┐                        \n",
       "« q0_1: ─╫─┤M├────────────────────────\n",
       "«        ║ └╥┘┌─┐                     \n",
       "« q0_2: ─╫──╫─┤M├─────────────────────\n",
       "«        ║  ║ └╥┘┌─┐                  \n",
       "« q0_3: ─╫──╫──╫─┤M├──────────────────\n",
       "«        ║  ║  ║ └╥┘┌─┐               \n",
       "« q0_4: ─╫──╫──╫──╫─┤M├───────────────\n",
       "«        ║  ║  ║  ║ └╥┘┌─┐            \n",
       "« q0_5: ─╫──╫──╫──╫──╫─┤M├────────────\n",
       "«        ║  ║  ║  ║  ║ └╥┘┌─┐         \n",
       "« q0_6: ─╫──╫──╫──╫──╫──╫─┤M├─────────\n",
       "«        ║  ║  ║  ║  ║  ║ └╥┘┌─┐      \n",
       "« q0_7: ─╫──╫──╫──╫──╫──╫──╫─┤M├──────\n",
       "«        ║  ║  ║  ║  ║  ║  ║ └╥┘┌─┐   \n",
       "« q0_8: ─╫──╫──╫──╫──╫──╫──╫──╫─┤M├───\n",
       "«        ║  ║  ║  ║  ║  ║  ║  ║ └╥┘┌─┐\n",
       "« q0_9: ─╫──╫──╫──╫──╫──╫──╫──╫──╫─┤M├\n",
       "«        ║  ║  ║  ║  ║  ║  ║  ║  ║ └╥┘\n",
       "«q0_10: ─╫──╫──╫──╫──╫──╫──╫──╫──╫──╫─\n",
       "«        ║  ║  ║  ║  ║  ║  ║  ║  ║  ║ \n",
       "«q0_11: ─╫──╫──╫──╫──╫──╫──╫──╫──╫──╫─\n",
       "«        ║  ║  ║  ║  ║  ║  ║  ║  ║  ║ \n",
       "«c0: 10/═╩══╩══╩══╩══╩══╩══╩══╩══╩══╩═\n",
       "«        0  1  2  3  4  5  6  7  8  9 </pre>"
      ],
      "text/plain": [
       "                                                                   ┌───┐ ░ »\n",
       " q0_0: ─────────────────■────■────■────■────■────■────■────■────■──┤ X ├─░─»\n",
       "                        │    │    │    │    │    │    │    │  ┌─┴─┐└─┬─┘ ░ »\n",
       " q0_1: ─────────────────■────■────■────■────■────■────■────■──┤ X ├──┼───░─»\n",
       "       ┌───┐┌────────┐  │    │    │    │    │    │    │  ┌─┴─┐└─┬─┘  │   ░ »\n",
       " q0_2: ┤ H ├┤ P(π/4) ├──■────■────■────■────■────■────■──┤ X ├──┼────┼───░─»\n",
       "       └───┘└────────┘  │    │    │    │    │    │  ┌─┴─┐└─┬─┘  │    │   ░ »\n",
       " q0_3: ─────────────────■────■────■────■────■────■──┤ X ├──┼────┼────┼───░─»\n",
       "                        │    │    │    │    │  ┌─┴─┐└─┬─┘  │    │    │   ░ »\n",
       " q0_4: ─────────────────■────■────■────■────■──┤ X ├──┼────┼────┼────┼───░─»\n",
       "                        │    │    │    │  ┌─┴─┐└─┬─┘  │    │    │    │   ░ »\n",
       " q0_5: ─────────────────■────■────■────■──┤ X ├──┼────┼────┼────┼────┼───░─»\n",
       "                        │    │    │  ┌─┴─┐└─┬─┘  │    │    │    │    │   ░ »\n",
       " q0_6: ─────────────────■────■────■──┤ X ├──┼────┼────┼────┼────┼────┼───░─»\n",
       "                        │    │  ┌─┴─┐└─┬─┘  │    │    │    │    │    │   ░ »\n",
       " q0_7: ─────────────────■────■──┤ X ├──┼────┼────┼────┼────┼────┼────┼───░─»\n",
       "                        │  ┌─┴─┐└─┬─┘  │    │    │    │    │    │    │   ░ »\n",
       " q0_8: ─────────────────■──┤ X ├──┼────┼────┼────┼────┼────┼────┼────┼───░─»\n",
       "                      ┌─┴─┐└─┬─┘  │    │    │    │    │    │    │    │   ░ »\n",
       " q0_9: ───────────────┤ X ├──┼────┼────┼────┼────┼────┼────┼────┼────┼───░─»\n",
       "       ┌───┐          └─┬─┘  │    │    │    │    │    │    │    │    │   ░ »\n",
       "q0_10: ┤ X ├────────────■────■────■────■────■────■────■────■────■────■───░─»\n",
       "       ├───┤┌────────┐                                                   ░ »\n",
       "q0_11: ┤ H ├┤ P(π/2) ├───────────────────────────────────────────────────░─»\n",
       "       └───┘└────────┘                                                   ░ »\n",
       "c0: 10/════════════════════════════════════════════════════════════════════»\n",
       "                                                                           »\n",
       "«                                                     ░                     »\n",
       "« q0_0: ──────────────────────────────────────────────░─────────────────────»\n",
       "«                                               ┌───┐ ░                     »\n",
       "« q0_1: ──■────■────■────■────■────■────■────■──┤ X ├─░───■────■────■────■──»\n",
       "«         │    │    │    │    │    │    │  ┌─┴─┐└─┬─┘ ░   │    │    │    │  »\n",
       "« q0_2: ──■────■────■────■────■────■────■──┤ X ├──┼───░───■────■────■────■──»\n",
       "«         │    │    │    │    │    │  ┌─┴─┐└─┬─┘  │   ░   │    │    │    │  »\n",
       "« q0_3: ──■────■────■────■────■────■──┤ X ├──┼────┼───░───■────■────■────■──»\n",
       "«         │    │    │    │    │  ┌─┴─┐└─┬─┘  │    │   ░   │    │    │    │  »\n",
       "« q0_4: ──■────■────■────■────■──┤ X ├──┼────┼────┼───░───■────■────■────■──»\n",
       "«         │    │    │    │  ┌─┴─┐└─┬─┘  │    │    │   ░   │    │    │    │  »\n",
       "« q0_5: ──■────■────■────■──┤ X ├──┼────┼────┼────┼───░───■────■────■────■──»\n",
       "«         │    │    │  ┌─┴─┐└─┬─┘  │    │    │    │   ░   │    │    │  ┌─┴─┐»\n",
       "« q0_6: ──■────■────■──┤ X ├──┼────┼────┼────┼────┼───░───■────■────■──┤ X ├»\n",
       "«         │    │  ┌─┴─┐└─┬─┘  │    │    │    │    │   ░   │    │  ┌─┴─┐└─┬─┘»\n",
       "« q0_7: ──■────■──┤ X ├──┼────┼────┼────┼────┼────┼───░───■────■──┤ X ├──┼──»\n",
       "«         │  ┌─┴─┐└─┬─┘  │    │    │    │    │    │   ░   │  ┌─┴─┐└─┬─┘  │  »\n",
       "« q0_8: ──■──┤ X ├──┼────┼────┼────┼────┼────┼────┼───░───■──┤ X ├──┼────┼──»\n",
       "«       ┌─┴─┐└─┬─┘  │    │    │    │    │    │    │   ░ ┌─┴─┐└─┬─┘  │    │  »\n",
       "« q0_9: ┤ X ├──┼────┼────┼────┼────┼────┼────┼────┼───░─┤ X ├──┼────┼────┼──»\n",
       "«       └─┬─┘  │    │    │    │    │    │    │    │   ░ └─┬─┘  │    │    │  »\n",
       "«q0_10: ──■────■────■────■────■────■────■────■────■───░───■────■────■────■──»\n",
       "«         │    │    │    │    │    │    │    │    │   ░   │    │    │    │  »\n",
       "«q0_11: ──■────■────■────■────■────■────■────■────■───░───■────■────■────■──»\n",
       "«                                                     ░                     »\n",
       "«c0: 10/════════════════════════════════════════════════════════════════════»\n",
       "«                                                                           »\n",
       "«                                 ░                                          ░ »\n",
       "« q0_0: ──────────────────────────░──────────────────────────────────────────░─»\n",
       "«                           ┌───┐ ░                                          ░ »\n",
       "« q0_1: ──■────■────■────■──┤ X ├─░──────────────────────────────────────────░─»\n",
       "«         │    │    │  ┌─┴─┐└─┬─┘ ░                                    ┌───┐ ░ »\n",
       "« q0_2: ──■────■────■──┤ X ├──┼───░───■────■────■────■────■────■────■──┤ X ├─░─»\n",
       "«         │    │  ┌─┴─┐└─┬─┘  │   ░   │    │    │    │    │    │  ┌─┴─┐└─┬─┘ ░ »\n",
       "« q0_3: ──■────■──┤ X ├──┼────┼───░───■────■────■────■────■────■──┤ X ├──┼───░─»\n",
       "«         │  ┌─┴─┐└─┬─┘  │    │   ░   │    │    │    │    │  ┌─┴─┐└─┬─┘  │   ░ »\n",
       "« q0_4: ──■──┤ X ├──┼────┼────┼───░───■────■────■────■────■──┤ X ├──┼────┼───░─»\n",
       "«       ┌─┴─┐└─┬─┘  │    │    │   ░   │    │    │    │  ┌─┴─┐└─┬─┘  │    │   ░ »\n",
       "« q0_5: ┤ X ├──┼────┼────┼────┼───░───■────■────■────■──┤ X ├──┼────┼────┼───░─»\n",
       "«       └─┬─┘  │    │    │    │   ░   │    │    │  ┌─┴─┐└─┬─┘  │    │    │   ░ »\n",
       "« q0_6: ──┼────┼────┼────┼────┼───░───■────■────■──┤ X ├──┼────┼────┼────┼───░─»\n",
       "«         │    │    │    │    │   ░   │    │  ┌─┴─┐└─┬─┘  │    │    │    │   ░ »\n",
       "« q0_7: ──┼────┼────┼────┼────┼───░───■────■──┤ X ├──┼────┼────┼────┼────┼───░─»\n",
       "«         │    │    │    │    │   ░   │  ┌─┴─┐└─┬─┘  │    │    │    │    │   ░ »\n",
       "« q0_8: ──┼────┼────┼────┼────┼───░───■──┤ X ├──┼────┼────┼────┼────┼────┼───░─»\n",
       "«         │    │    │    │    │   ░ ┌─┴─┐└─┬─┘  │    │    │    │    │    │   ░ »\n",
       "« q0_9: ──┼────┼────┼────┼────┼───░─┤ X ├──┼────┼────┼────┼────┼────┼────┼───░─»\n",
       "«         │    │    │    │    │   ░ └─┬─┘  │    │    │    │    │    │    │   ░ »\n",
       "«q0_10: ──■────■────■────■────■───░───┼────┼────┼────┼────┼────┼────┼────┼───░─»\n",
       "«         │    │    │    │    │   ░   │    │    │    │    │    │    │    │   ░ »\n",
       "«q0_11: ──■────■────■────■────■───░───■────■────■────■────■────■────■────■───░─»\n",
       "«                                 ░                                          ░ »\n",
       "«c0: 10/═══════════════════════════════════════════════════════════════════════»\n",
       "«                                                                              »\n",
       "«       ┌─┐                           \n",
       "« q0_0: ┤M├───────────────────────────\n",
       "«       └╥┘┌─┐                        \n",
       "« q0_1: ─╫─┤M├────────────────────────\n",
       "«        ║ └╥┘┌─┐                     \n",
       "« q0_2: ─╫──╫─┤M├─────────────────────\n",
       "«        ║  ║ └╥┘┌─┐                  \n",
       "« q0_3: ─╫──╫──╫─┤M├──────────────────\n",
       "«        ║  ║  ║ └╥┘┌─┐               \n",
       "« q0_4: ─╫──╫──╫──╫─┤M├───────────────\n",
       "«        ║  ║  ║  ║ └╥┘┌─┐            \n",
       "« q0_5: ─╫──╫──╫──╫──╫─┤M├────────────\n",
       "«        ║  ║  ║  ║  ║ └╥┘┌─┐         \n",
       "« q0_6: ─╫──╫──╫──╫──╫──╫─┤M├─────────\n",
       "«        ║  ║  ║  ║  ║  ║ └╥┘┌─┐      \n",
       "« q0_7: ─╫──╫──╫──╫──╫──╫──╫─┤M├──────\n",
       "«        ║  ║  ║  ║  ║  ║  ║ └╥┘┌─┐   \n",
       "« q0_8: ─╫──╫──╫──╫──╫──╫──╫──╫─┤M├───\n",
       "«        ║  ║  ║  ║  ║  ║  ║  ║ └╥┘┌─┐\n",
       "« q0_9: ─╫──╫──╫──╫──╫──╫──╫──╫──╫─┤M├\n",
       "«        ║  ║  ║  ║  ║  ║  ║  ║  ║ └╥┘\n",
       "«q0_10: ─╫──╫──╫──╫──╫──╫──╫──╫──╫──╫─\n",
       "«        ║  ║  ║  ║  ║  ║  ║  ║  ║  ║ \n",
       "«q0_11: ─╫──╫──╫──╫──╫──╫──╫──╫──╫──╫─\n",
       "«        ║  ║  ║  ║  ║  ║  ║  ║  ║  ║ \n",
       "«c0: 10/═╩══╩══╩══╩══╩══╩══╩══╩══╩══╩═\n",
       "«        0  1  2  3  4  5  6  7  8  9 "
      ]
     },
     "execution_count": 1,
     "metadata": {},
     "output_type": "execute_result"
    }
   ],
   "source": [
    "import math\n",
    "\n",
    "from qiskit import ClassicalRegister, QuantumCircuit, QuantumRegister\n",
    "from qiskit_aer import AerSimulator\n",
    "\n",
    "q = QuantumRegister(12)\n",
    "c = ClassicalRegister(10)\n",
    "qc = QuantumCircuit(q, c)\n",
    "qc.h(2)\n",
    "qc.p(math.pi / 4, 2)\n",
    "\n",
    "qc.x(10)\n",
    "qc.h(11)\n",
    "qc.p(math.pi / 2, 11)\n",
    "\n",
    "for i in range(9):\n",
    "    control = []\n",
    "    control.append(10)\n",
    "    for j in range(9 - i):\n",
    "        control.append(j)\n",
    "    qc.mcx(control, 9 - i)\n",
    "qc.cx(10, 0)\n",
    "\n",
    "qc.barrier()\n",
    "\n",
    "for i in range(8):\n",
    "    control = []\n",
    "    control.append(10)\n",
    "    control.append(11)\n",
    "    for j in range(1, 9 - i):\n",
    "        control.append(j)\n",
    "    qc.mcx(control, 9 - i)\n",
    "qc.ccx(10, 11, 1)\n",
    "\n",
    "qc.barrier()\n",
    "\n",
    "for i in range(8):\n",
    "    control = []\n",
    "    control.append(10)\n",
    "    control.append(11)\n",
    "    for j in range(1, 9 - i):\n",
    "        control.append(j)\n",
    "    qc.mcx(control, 9 - i)\n",
    "qc.ccx(10, 11, 1)\n",
    "\n",
    "qc.barrier()\n",
    "\n",
    "for i in range(7):\n",
    "    control = []\n",
    "    control.append(11)\n",
    "    for j in range(2, 9 - i):\n",
    "        control.append(j)\n",
    "    qc.mcx(control, 9 - i)\n",
    "qc.cx(11, 2)\n",
    "\n",
    "qc.barrier()\n",
    "\n",
    "qc.measure([0, 1, 2, 3, 4, 5, 6, 7, 8, 9], [0, 1, 2, 3, 4, 5, 6, 7, 8, 9])\n",
    "\n",
    "qc.draw()"
   ]
  },
  {
   "cell_type": "code",
   "execution_count": 2,
   "id": "f44a9e7f",
   "metadata": {},
   "outputs": [
    {
     "data": {
      "text/plain": [
       "{'0000001101': 261, '0000000001': 264, '0000000101': 253, '0000001001': 246}"
      ]
     },
     "execution_count": 2,
     "metadata": {},
     "output_type": "execute_result"
    }
   ],
   "source": [
    "simulator = AerSimulator()\n",
    "result = simulator.run(qc, shots=1024).result()\n",
    "counts = result.get_counts(qc)"
   ]
  },
  {
   "cell_type": "markdown",
   "id": "2367227c",
   "metadata": {},
   "source": [
    "### Quantum Program File\n",
    "Here we show the structure of this input file:\n",
    "- The quantum program should be written with Qiskit in Python.\n",
    "- The code has to be structured in a function named as 'run' with one parameter that refers to the quantum circuit.\n",
    "- Users only need to add gates to the circuit and measure output qubits to get the output. They don't need to set any register, initialize circuits, choose the simulation, or execute the circuits in 'run' function."
   ]
  },
  {
   "cell_type": "raw",
   "id": "abe20a3e",
   "metadata": {},
   "source": [
    "def run(qc):\n",
    "    qc.gate(...)\n",
    "\n",
    "    qc.measure(...)"
   ]
  },
  {
   "cell_type": "markdown",
   "id": "ba21263c",
   "metadata": {},
   "source": [
    "### Example Quantum Program File\n",
    "Here is the corresponding quantum program file of *QRAM.py* for Quito."
   ]
  },
  {
   "cell_type": "code",
   "execution_count": 3,
   "id": "acb54f83",
   "metadata": {},
   "outputs": [],
   "source": [
    "import math\n",
    "\n",
    "\n",
    "def run(qc):\n",
    "    qc.h(2)\n",
    "    qc.p(math.pi / 4, 2)\n",
    "\n",
    "    qc.x(10)\n",
    "    qc.h(11)\n",
    "    qc.p(math.pi / 2, 11)\n",
    "\n",
    "    for i in range(9):\n",
    "        control = []\n",
    "        control.append(10)\n",
    "        for j in range(9 - i):\n",
    "            control.append(j)\n",
    "        qc.mcx(control, 9 - i)\n",
    "    qc.cx(10, 0)\n",
    "\n",
    "    qc.barrier()\n",
    "\n",
    "    for i in range(8):\n",
    "        control = []\n",
    "        control.append(10)\n",
    "        control.append(11)\n",
    "        for j in range(1, 9 - i):\n",
    "            control.append(j)\n",
    "        qc.mcx(control, 9 - i)\n",
    "    qc.ccx(10, 11, 1)\n",
    "\n",
    "    qc.barrier()\n",
    "\n",
    "    for i in range(8):\n",
    "        control = []\n",
    "        control.append(10)\n",
    "        control.append(11)\n",
    "        for j in range(1, 9 - i):\n",
    "            control.append(j)\n",
    "        qc.mcx(control, 9 - i)\n",
    "    qc.ccx(10, 11, 1)\n",
    "\n",
    "    qc.barrier()\n",
    "\n",
    "    for i in range(7):\n",
    "        control = []\n",
    "        control.append(11)\n",
    "        for j in range(2, 9 - i):\n",
    "            control.append(j)\n",
    "        qc.mcx(control, 9 - i)\n",
    "    qc.cx(11, 2)\n",
    "\n",
    "    qc.barrier()\n",
    "\n",
    "    qc.measure([0, 1, 2, 3, 4, 5, 6, 7, 8, 9], [0, 1, 2, 3, 4, 5, 6, 7, 8, 9])"
   ]
  },
  {
   "cell_type": "markdown",
   "id": "1e4333fe",
   "metadata": {},
   "source": [
    "### Configuration File\n",
    "Here we show the structure of this the program configuration file. It is an INI file, which contains three sections defined by headers enclosed in brackets [ ] and contains several properties represented by key-value pairs, called properties. This configuration file describes the program information, QuSBT execution information and program specification of the algorithm under test. Some properties are required and some properties are optional."
   ]
  },
  {
   "cell_type": "raw",
   "id": "a40939d2",
   "metadata": {},
   "source": [
    "[program]\n",
    "root=\n",
    ";(Required)\n",
    ";Description: The absolute root of your quantum program file.\n",
    "num_qubit=\n",
    ";(Required)\n",
    ";Description: The total number of qubit of your quantum program.\n",
    "inputID=\n",
    ";(Required)\n",
    ";Description: The IDs of input qubits.\n",
    ";Format: A non-repeating sequence separated by commas.\n",
    "outputID=\n",
    ";(Required)\n",
    ";Description: The IDs of output qubits which are the qubits to be measured.\n",
    ";Format: A non-repeating sequence separated by commas.\n",
    "\n",
    "\n",
    "[qusbt_configuration]\n",
    "beta=\n",
    ";(Optional)\n",
    ";Description: The percentage of possible inputs as the number of test cases in a test suite.\n",
    "M=\n",
    ";(Optional)\n",
    ";Description: The number of test cases in a test suite.\n",
    ";Attention: You should use either 'beta' or 'M'. We use 'beta' as 0.05 by default.\n",
    "\n",
    "\n",
    "[GA_parameter]\n",
    "population_size=\n",
    ";(Optional)\n",
    ";Description: The population size in GA, population_size=10 by default.\n",
    "offspring_population_size=\n",
    ";(Optional)\n",
    ";Description: The offspring population size in GA, offspring_population_size=10 by default.\n",
    "max_evaluations=\n",
    ";(Optional)\n",
    ";Description: The maximum evaluations in GA, max_evaluations=500 by default.\n",
    "mutation_probability=\n",
    ";(Optional)\n",
    ";Description: mutation probability in GA, mutation_probability=1.0/M, 'M' is the size of a test suite by default.\n",
    "mutation_distribution_index=\n",
    ";(Optional)\n",
    ";Description: mutation distribution in GA, mutation_distribution_index=20 by default.\n",
    "crossover_probability=\n",
    ";(Optional)\n",
    ";Description: crossover probability in GA, crossover_probability=0.9 by default.\n",
    "crossover_distribution_index=\n",
    ";(Optional)\n",
    ";Description: crossover probability in GA, crossover_distribution_index=20 by default.\n",
    "\n",
    "\n",
    "[program_specification]\n",
    ";Description: The program specification.\n",
    ";Format:input string (binary),output string (binary)=probability\n",
    ";Example:\n",
    ";00,1=0.5\n",
    ";00,0=0.5\n",
    ";01,1=0.5\n",
    ";01,0=0.5\n",
    ";or\n",
    ";0-,-=0.5\n",
    ";Attention: '-' can refer to both '0' and '1'."
   ]
  },
  {
   "cell_type": "markdown",
   "id": "dd85a36f",
   "metadata": {},
   "source": [
    "Here is the corresponding configuration file for **IQFT** algorithm. (The complete version can be found in [this repo](https://github.com/Simula-COMPLEX/qusbt-tool))"
   ]
  },
  {
   "cell_type": "raw",
   "id": "1d702e12",
   "metadata": {},
   "source": [
    "[program]\n",
    "root=\\home\\user\\qram.py\n",
    "num_qubit=12\n",
    "inputID=0,1,2,3,4,5,6,7,8,9\n",
    "outputID=0,1,2,3,4,5,6,7,8,9\n",
    "\n",
    "[qusbt_configuration]\n",
    "beta=0.05\n",
    "confidence_level=0.01\n",
    "\n",
    "[GA_parameter]\n",
    "population_size=10\n",
    "offspring_population_size=10\n",
    "max_evaluations=500  \n",
    "\n",
    "[program_specification]\n",
    "----------,----------=0.0009765625\n",
    "..."
   ]
  },
  {
   "cell_type": "markdown",
   "id": "4152f6e8",
   "metadata": {},
   "source": [
    "### Test with QuSBT Directly"
   ]
  },
  {
   "cell_type": "markdown",
   "id": "1f0a9077",
   "metadata": {},
   "source": [
    "Import qusbt and use qusbt method directly and the parameter is the absolute path of the configuration file."
   ]
  },
  {
   "cell_type": "code",
   "execution_count": 10,
   "id": "27b5b84c",
   "metadata": {},
   "outputs": [],
   "source": [
    "from qusbt.qusbt_search import qusbt\n",
    "\n",
    "# Input the root of the configuration file\n",
    "qusbt(\"/home/user/IQ.ini\")"
   ]
  },
  {
   "cell_type": "markdown",
   "id": "9072a46b",
   "metadata": {},
   "source": [
    "We can check the process bar to see whether quito is running. After the whole process is finished, you can find the result file in a folder named **\"result\"**, which is located in the same directory of the **quantum program file**."
   ]
  },
  {
   "cell_type": "markdown",
   "id": "77690117",
   "metadata": {},
   "source": [
    "### Submit with by Slurm Job"
   ]
  },
  {
   "cell_type": "markdown",
   "id": "2b4f8e5e",
   "metadata": {},
   "source": [
    "Please first create an **executing file** and a **slurm file** to run the experiment."
   ]
  },
  {
   "cell_type": "markdown",
   "id": "9be74b3f",
   "metadata": {},
   "source": [
    "Here is the executing file *quito_test.py*."
   ]
  },
  {
   "cell_type": "code",
   "execution_count": null,
   "id": "3b150a23",
   "metadata": {},
   "outputs": [],
   "source": [
    "import time\n",
    "\n",
    "from qusbt.qusbt_search import qusbt\n",
    "\n",
    "start = time.time()\n",
    "qusbt(\"/home/user/IQ.ini\")\n",
    "end = time.time()\n",
    "\n",
    "print(end - start)"
   ]
  },
  {
   "cell_type": "markdown",
   "id": "e47f318a",
   "metadata": {},
   "source": [
    "Here is the slurm file. It shows the configuration of running on a CPU node."
   ]
  },
  {
   "cell_type": "raw",
   "id": "62afe73f",
   "metadata": {},
   "source": [
    "#!/bin/bash\n",
    "#SBATCH -p defq\n",
    "#SBATCH --job-name=QuSBT_CPU\n",
    "#SBATCH -n 10\n",
    "#SBATCH --time 00-1:00:00    # time (D-HH:MM:SS)\n",
    "module purge\n",
    "module load slurm/slurm/21.08.8\n",
    "module use /cm/shared/ex3-qc-modules/modulefiles\n",
    "module load qusbt/qusbt-py311-1.0.2\n",
    "export PYTHONPATH=root_path:$PYTHONPATH\n",
    "srun python qusbt_test.py"
   ]
  },
  {
   "cell_type": "markdown",
   "id": "7c98e75a",
   "metadata": {},
   "source": [
    "The following is the version of configuration file running on a GPU node."
   ]
  },
  {
   "cell_type": "raw",
   "id": "5e869d9d",
   "metadata": {},
   "source": [
    "#!/bin/bash\n",
    "#SBATCH -p defq\n",
    "#SBATCH --job-name=QuSBT_GPU\n",
    "#SBATCH -n 10\n",
    "#SBATCH --gres=gpu:1\n",
    "#SBATCH --time 00-1:00:00    # time (D-HH:MM:SS)\n",
    "module purge\n",
    "module load slurm/slurm/21.08.8\n",
    "module use /cm/shared/ex3-qc-modules/modulefiles\n",
    "module load qusbt/qusbt-py311-cu118-1.0.2\n",
    "export PYTHONPATH=root_path:$PYTHONPATH\n",
    "srun python qucat_test.py"
   ]
  },
  {
   "cell_type": "markdown",
   "id": "76d85a45",
   "metadata": {},
   "source": [
    "Please prepare the following files before submitting to the eX3.\n",
    "\n",
    "- quantum program file\n",
    "- configuration file\n",
    "- executing file\n",
    "- slurm file\n",
    "\n",
    "Run the following code to submit the job."
   ]
  },
  {
   "cell_type": "code",
   "execution_count": 9,
   "id": "1214a583",
   "metadata": {},
   "outputs": [
    {
     "name": "stdout",
     "output_type": "stream",
     "text": [
      "Submitted batch job 293033\n"
     ]
    },
    {
     "data": {
      "text/plain": [
       "0"
      ]
     },
     "execution_count": 9,
     "metadata": {},
     "output_type": "execute_result"
    }
   ],
   "source": [
    "import os\n",
    "\n",
    "command = \"sbatch /home/user/qusbt.slurm\"\n",
    "os.system(command)"
   ]
  },
  {
   "cell_type": "markdown",
   "id": "d2cef420",
   "metadata": {},
   "source": [
    "It will print the job number after a successful submission. You can check the running statu by using the \"squeue\" command. After completing the execution, you can check the file *slurm-[job number].out* to check the the execution time. Result files can be found in the same "
   ]
  }
 ],
 "metadata": {
  "kernelspec": {
   "display_name": "Python 3 (ipykernel)",
   "language": "python",
   "name": "python3"
  },
  "language_info": {
   "codemirror_mode": {
    "name": "ipython",
    "version": 3
   },
   "file_extension": ".py",
   "mimetype": "text/x-python",
   "name": "python",
   "nbconvert_exporter": "python",
   "pygments_lexer": "ipython3",
   "version": "3.9.12"
  }
 },
 "nbformat": 4,
 "nbformat_minor": 5
}
