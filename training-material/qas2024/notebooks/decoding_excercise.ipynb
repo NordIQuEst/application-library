{
 "cells": [
  {
   "cell_type": "markdown",
   "id": "0bef0ebe-96ef-46de-ba78-10fb6aa84bd4",
   "metadata": {},
   "source": [
    "# Tutorial - MAP Decoding Exercise\n",
    "\n",
    "The goal of MAP decoding is to find the most probable error vector `e` given the syndrome `s`.\n",
    "We optimize:\n",
    "    \n",
    "    max P(e | s)\n",
    "    \n",
    "Given the constraints from the parity-check matrix `H`:\n",
    "    \n",
    "    H @ e = s (mod 2)\n",
    "\n",
    "Throughout the excercise we will assume that errors are iid with $p<1/2$."
   ]
  },
  {
   "cell_type": "markdown",
   "id": "744e345b-5eb9-4349-bceb-bdd7184afa8b",
   "metadata": {},
   "source": [
    "## 1. MAP Decoding for [7,4] Hamming code"
   ]
  },
  {
   "cell_type": "code",
   "execution_count": 1,
   "id": "b9ff7d30-28c6-4f3a-a5ff-823ccbed92e8",
   "metadata": {},
   "outputs": [
    {
     "name": "stdout",
     "output_type": "stream",
     "text": [
      "\n",
      "Received syndrome, s=  [1 1 0]\n"
     ]
    }
   ],
   "source": [
    "from itertools import product\n",
    "\n",
    "import numpy as np\n",
    "\n",
    "\n",
    "# Function to compute the syndrome for a given error vector\n",
    "def compute_syndrome(H, e):\n",
    "    return np.mod(H @ e, 2)\n",
    "\n",
    "\n",
    "# Example of a parity-check matrix for a [7,4] Hamming code\n",
    "H = np.array(\n",
    "    [\n",
    "        [1, 1, 0, 1, 1, 0, 0],\n",
    "        [1, 0, 1, 1, 0, 1, 0],\n",
    "        [0, 1, 1, 1, 0, 0, 1],\n",
    "    ]\n",
    ")\n",
    "\n",
    "# Define an error vector e\n",
    "e = np.array([1, 0, 0, 0, 0, 0, 0])\n",
    "\n",
    "s = np.mod(H @ e, 2)\n",
    "print(\"\\nReceived syndrome, s= \", s)"
   ]
  },
  {
   "cell_type": "markdown",
   "id": "093eb309-1731-4a02-b1e4-a13ab2c193ed",
   "metadata": {},
   "source": [
    "## 2. Exhaustive MAP Decoding\n",
    "\n",
    "Now let's assume we only received the syndrome `s` and want to find the most likely error vector `e`\n",
    "\n",
    "Let's simulate the decoding process by searching through all possible error vectors.\n",
    "\n",
    "- Generate all possible error vectors `e`.\n",
    "- Check which satisfy `H @ e = s (mod 2)`.\n",
    "- Among valid solutions, select the one with the smallest Hamming weight."
   ]
  },
  {
   "cell_type": "code",
   "execution_count": 2,
   "id": "f86de47c-d18b-48cf-9198-a26f7fe8ae19",
   "metadata": {},
   "outputs": [
    {
     "name": "stdout",
     "output_type": "stream",
     "text": [
      "Valid error vectors, with weight:\n",
      "[0 0 0 0 1 1 0] 2\n",
      "[0 0 0 1 0 0 1] 2\n",
      "[0 0 1 0 1 0 1] 3\n",
      "[0 0 1 1 0 1 0] 3\n",
      "[0 1 0 0 0 1 1] 3\n",
      "[0 1 0 1 1 0 0] 3\n",
      "[0 1 1 0 0 0 0] 2\n",
      "[0 1 1 1 1 1 1] 6\n",
      "[1 0 0 0 0 0 0] 1\n",
      "[1 0 0 1 1 1 1] 5\n",
      "[1 0 1 0 0 1 1] 4\n",
      "[1 0 1 1 1 0 0] 4\n",
      "[1 1 0 0 1 0 1] 4\n",
      "[1 1 0 1 0 1 0] 4\n",
      "[1 1 1 0 1 1 0] 5\n",
      "[1 1 1 1 0 0 1] 5\n",
      "\n",
      "Best error vector (minimum weight): [1 0 0 0 0 0 0] 1\n",
      "We needed to search 128 error vectors.\n"
     ]
    }
   ],
   "source": [
    "# Generate all possible error vectors for n = 7\n",
    "n = H.shape[1]\n",
    "error_vectors = [np.array(e) for e in product([0, 1], repeat=n)]\n",
    "\n",
    "# Find all error vectors that satisfy H @ e = s (mod 2)\n",
    "\n",
    "print(\"Valid error vectors, with weight:\")\n",
    "valid_errors = []\n",
    "for e in error_vectors:\n",
    "    if np.array_equal(compute_syndrome(H, e), s):\n",
    "        valid_errors.append(e)\n",
    "        print(e, np.sum(e))\n",
    "\n",
    "# Select the error vector with the smallest Hamming weight\n",
    "best_error = min(valid_errors, key=lambda e: np.sum(e))\n",
    "\n",
    "print(\"\\nBest error vector (minimum weight):\", best_error, np.sum(best_error))\n",
    "print(\"We needed to search\", len(error_vectors), \"error vectors.\")"
   ]
  },
  {
   "cell_type": "markdown",
   "id": "f2ee6237-35b4-494f-a77a-fc0aceb999ed",
   "metadata": {},
   "source": [
    "## 3. Heuristic Approach: Greedy Decoding\n",
    "\n",
    "Instead of checking all error vectors, we can approximate the solution using a greedy algorithm:\n",
    "\n",
    "- Start with an initial guess (e.g., all zeros).\n",
    "- Iteratively flip bits to reduce the syndrome error.\n",
    "\n",
    "This is not guaranteed to find the optimal solution but can be faster in practice.\n",
    "\n",
    "Observe that the number of steps varies with each run, and it can give solutions that do not minimize the weight."
   ]
  },
  {
   "cell_type": "code",
   "execution_count": 3,
   "id": "6fdeace7-a3d3-40ea-abc3-9ec91da4a370",
   "metadata": {},
   "outputs": [
    {
     "name": "stdout",
     "output_type": "stream",
     "text": [
      "\n",
      "Decoded error vector using heuristic: [1 0 0 0 0 0 0]\n",
      "Number of steps required: 2\n"
     ]
    }
   ],
   "source": [
    "# Greedy decoding algorithm\n",
    "def greedy_decoder(H, s, max_iter=10):\n",
    "    steps = 0\n",
    "    n = H.shape[1]\n",
    "    e = np.zeros(n, dtype=int)  # Start with no errors\n",
    "    for _ in range(max_iter):\n",
    "        steps += 1\n",
    "        syndrome = compute_syndrome(H, e)\n",
    "        if np.array_equal(syndrome, s):\n",
    "            break  # Decoded successfully\n",
    "        # Find a bit to flip (choose one randomly for simplicity)\n",
    "        flip_index = np.random.choice(np.where(syndrome != s)[0])\n",
    "        e[flip_index] ^= 1  # Flip the bit\n",
    "    return e, steps\n",
    "\n",
    "\n",
    "# Run the greedy decoder\n",
    "decoded_error, steps = greedy_decoder(H, s)\n",
    "print(\"\\nDecoded error vector using heuristic:\", decoded_error)\n",
    "print(\"Number of steps required:\", steps)"
   ]
  }
 ],
 "metadata": {
  "kernelspec": {
   "display_name": "Python 3",
   "language": "python",
   "name": "python3"
  },
  "language_info": {
   "codemirror_mode": {
    "name": "ipython",
    "version": 3
   },
   "file_extension": ".py",
   "mimetype": "text/x-python",
   "name": "python",
   "nbconvert_exporter": "python",
   "pygments_lexer": "ipython3",
   "version": "3.8.5"
  }
 },
 "nbformat": 4,
 "nbformat_minor": 5
}
