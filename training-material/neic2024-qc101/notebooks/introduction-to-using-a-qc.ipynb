{
 "cells": [
  {
   "cell_type": "markdown",
   "metadata": {},
   "source": [
    "# **Workshop: Quantum Computing 101 Part I**\n",
    "\n",
    "In this workshop, an introduction to quantum computing is given with a practical approach! You will create a quantum program using qiskit and run your first quantum program on a real quantum computer - VTT Q5 Helmi hosted by VTT. \n",
    "\n",
    "Access to Helmi is given through the Nordiquest platform via LUMI. "
   ]
  },
  {
   "cell_type": "markdown",
   "metadata": {},
   "source": [
    "## **Objectives**\n",
    "\n",
    "- Run your first quantum job on a real quantum computer!\n",
    "- Learn how to write quantum circuits and quantum algorithms \n",
    "- Learn where quantum computers are at right now, and how to get the most out of them today! "
   ]
  },
  {
   "cell_type": "markdown",
   "metadata": {},
   "source": [
    "## **Setup**\n",
    "\n",
    "This notebook uses the following requirements. \n",
    "\n",
    "```text\n",
    "qiskit-iqm==13.6\n",
    "iqm-client==17.5\n",
    "qiskit[visualization]\n",
    "matplotlib\n",
    "pylatexenc\n",
    "```"
   ]
  },
  {
   "cell_type": "markdown",
   "metadata": {},
   "source": [
    "## **Writing your first Quantum Program**\n",
    "\n",
    "A quantum program consists of a quantum circuit, which is an abstraction model, allowing us to create quantum algorithms by applying single qubit and two qubit quantum logic gates. \n",
    "\n",
    "We construct, apply and run the quantum circuit on a **backend** using Python. "
   ]
  },
  {
   "cell_type": "markdown",
   "metadata": {},
   "source": [
    "### First quantum circuit\n",
    "\n",
    "A basic template of a quantum program is given. It consists of three parts:\n",
    "\n",
    "1. Creating and designing the quantum circuit \n",
    "2. Running the quantum circuit\n",
    "3. Analyzing the results"
   ]
  },
  {
   "cell_type": "code",
   "execution_count": null,
   "metadata": {},
   "outputs": [],
   "source": [
    "import numpy as np\n",
    "from qiskit import Aer, QuantumCircuit\n",
    "from qiskit.visualization import plot_histogram"
   ]
  },
  {
   "cell_type": "code",
   "execution_count": null,
   "metadata": {},
   "outputs": [],
   "source": [
    "qc = QuantumCircuit(1)\n",
    "\n",
    "qc.x(0)  # add a gate to the circuit\n",
    "qc.measure_all()  # add measurement at the end\n",
    "\n",
    "# run\n",
    "sim = Aer.get_backend(\"aer_simulator\")\n",
    "result = sim.run(qc).result()  # run circuit, get results\n",
    "\n",
    "qc.draw(output=\"mpl\", initial_state=True)"
   ]
  },
  {
   "cell_type": "code",
   "execution_count": null,
   "metadata": {},
   "outputs": [],
   "source": [
    "# output statistics\n",
    "counts = result.get_counts()  # extract statistics from results\n",
    "print(counts)"
   ]
  },
  {
   "cell_type": "code",
   "execution_count": null,
   "metadata": {},
   "outputs": [],
   "source": [
    "plot_histogram(counts)"
   ]
  },
  {
   "cell_type": "markdown",
   "metadata": {},
   "source": [
    "### A second example\n",
    "\n",
    "In the first example we showed how to write and run a quantum circuit when the initial state was $\\ket{0}$, flipping the qubit 100% of the time into the $\\ket{1}$ state. What happens if we use some other initial state?\n",
    "\n",
    "$$\n",
    "\\ket{\\psi_i} = \\frac{\\ket{0} + \\ket{1}}{\\sqrt{2}}.\n",
    "$$\n",
    "\n",
    "The state $\\ket{\\psi_i}$ is a linear combination or superposition of basis qubits."
   ]
  },
  {
   "cell_type": "code",
   "execution_count": null,
   "metadata": {},
   "outputs": [],
   "source": [
    "qc = QuantumCircuit(1)\n",
    "\n",
    "init_state = [1.0 / np.sqrt(2), 1.0 / np.sqrt(2)]  # define initial state\n",
    "qc.initialize(init_state, 0)  # initialize qubit 0 to init_state\n",
    "\n",
    "qc.x(0)  # add a gate to the circuit\n",
    "qc.measure_all()  # add measurement at the end\n",
    "\n",
    "# run\n",
    "sim = Aer.get_backend(\"aer_simulator\")\n",
    "result = sim.run(qc).result()  # run circuit, get results\n",
    "\n",
    "# output statistics\n",
    "counts = result.get_counts()  # extract statistics from results\n",
    "print(\"\\nCounts =\", counts)\n",
    "print()\n",
    "\n",
    "plot_histogram(counts)"
   ]
  },
  {
   "cell_type": "markdown",
   "metadata": {},
   "source": [
    "Now we see a distribution between the the states $\\ket{0}$ (represented by `0`) and $\\ket{1}$ (represented by `1`) were obtained in an almost equal number of cases. The histogram shows the respective probabilities, that is, the relative number of occurrence of each outcome, $p_i = \\frac{N_i}{N}$ where $N_i$ is the number of outcomes $i$ and $N$ is the total number of outcomes.\n",
    "\n",
    "In the perfect case the results should be exactly  $(0.5, 0.5)$. The reason why this is not the case is because the simulator is trying to mimic a realistic quantum machine. An experimental distribution above generally differs from the ideal distribution $(0.5, 0.5)$. We would get closer to the ideal homogeneous distribution $(0.5, 0.5)$ when we increase the number shots. This is the same phenomenon as in any other random experiment like tossing a coin or rolling a die."
   ]
  },
  {
   "cell_type": "markdown",
   "metadata": {},
   "source": [
    "## **Running a quantum program on a real quantum computer**\n",
    "\n",
    "Now that we've seen the basics of writing a quantum program, let's write one for running on a real quantum computer"
   ]
  },
  {
   "cell_type": "markdown",
   "metadata": {},
   "source": [
    "### VTTQ5 - Helmi\n",
    "\n",
    "Helmi is a 5 qubit Quantum Computer that is co-developed by [VTT](https://www.vttresearch.com/en/ourservices/quantum-technology) and [IQM](https://www.meetiqm.com/). It uses superconducting transmon qubits in a star shaped topology. Helmi's natives gates consist of the phased-rx and controlled-z gates. This architecture is called **Adonis** by IQM.\n",
    "\n",
    "In this tutorial running on Helmi is demonstrated using the Qiskit framework by utilising the [qiskit-on-iqm](https://github.com/iqm-finland/qiskit-on-iqm) adapter. These notebooks are intended to be run on [`lumi.csc.fi`](https://lumi.csc.fi) which has access to run on Helmi. Additional documentation for running on Helmi can be found [here](https://docs.csc.fi/computing/quantum-computing/helmi/running-on-helmi/).\n",
    "\n",
    "Here is Helmi! It is located in Espoo, Finland."
   ]
  },
  {
   "cell_type": "markdown",
   "metadata": {},
   "source": [
    "<img src=\"img/large_helmi.png\" alt=\"VTT Helmi\" width=\"900\" height=\"500\" class=\"blog-image\">"
   ]
  },
  {
   "cell_type": "markdown",
   "metadata": {},
   "source": [
    "### **Using Helmi with Qiskit**\n",
    "\n",
    "First we import [qiskit-on-iqm](https://github.com/iqm-finland/qiskit-on-iqm) which is needed to run on Helmi with qiskit. You can read the user guide [here](https://iqm-finland.github.io/qiskit-on-iqm/index.html)."
   ]
  },
  {
   "cell_type": "code",
   "execution_count": null,
   "metadata": {},
   "outputs": [],
   "source": [
    "import matplotlib.pyplot as plt\n",
    "import networkx as nx\n",
    "from iqm.qiskit_iqm import IQMFakeAdonis, IQMProvider\n",
    "from qiskit import QuantumCircuit, QuantumRegister, execute, transpile\n",
    "from qiskit.tools.monitor import job_monitor\n",
    "from qiskit.visualization import plot_histogram\n",
    "from qiskit_aer import Aer\n",
    "from utils import get_calibration_data, plot_metrics"
   ]
  },
  {
   "cell_type": "markdown",
   "metadata": {},
   "source": [
    "Then connection to the backend is simple! For this we point the `IQMProvider` at what is called the \"cocos URL\". The cocos url to access Helmi is provided below. \n",
    "\n",
    "**Note**:\n",
    "Access to Helmi is only available through LUMI. If you are running this notebook on your laptop, please use the `fake_backend` instead of Helmi. "
   ]
  },
  {
   "cell_type": "code",
   "execution_count": null,
   "metadata": {},
   "outputs": [],
   "source": [
    "provider = IQMProvider(\"https://qc.vtt.fi/helmi/cocos\")\n",
    "backend_helmi = provider.get_backend()"
   ]
  },
  {
   "cell_type": "markdown",
   "metadata": {},
   "source": [
    "We also create a backend to an **ideal** simulator. This acts as a comparison to the real device and will show results if our quantum device was perfect. "
   ]
  },
  {
   "cell_type": "code",
   "execution_count": null,
   "metadata": {},
   "outputs": [],
   "source": [
    "backend_sim = Aer.get_backend(\"aer_simulator\")"
   ]
  },
  {
   "cell_type": "markdown",
   "metadata": {},
   "source": [
    "Additionally, we can define a \"noisy\" simulator, which is a simulator that we can tune to behave like a real quantum computer. "
   ]
  },
  {
   "cell_type": "code",
   "execution_count": null,
   "metadata": {},
   "outputs": [],
   "source": [
    "fake_backend = IQMFakeAdonis()"
   ]
  },
  {
   "cell_type": "markdown",
   "metadata": {},
   "source": [
    "Now that we have the backend connected to Helmi, let's print out some information about Helmi!"
   ]
  },
  {
   "cell_type": "code",
   "execution_count": null,
   "metadata": {},
   "outputs": [],
   "source": [
    "print(f\"Native operations: {backend_helmi.operation_names}\")\n",
    "print(f\"Number of qubits: {backend_helmi.num_qubits}\")\n",
    "print(f\"Coupling map: {backend_helmi.coupling_map}\")"
   ]
  },
  {
   "cell_type": "markdown",
   "metadata": {},
   "source": [
    "The topology can be visualised with `networkx`:"
   ]
  },
  {
   "cell_type": "code",
   "execution_count": null,
   "metadata": {},
   "outputs": [],
   "source": [
    "G = nx.Graph()\n",
    "G.add_edges_from(backend_helmi.coupling_map)\n",
    "node_labels = {node: f\"QB{node + 1}\" for node in G.nodes}\n",
    "nx.draw(G, labels=node_labels, node_color=\"skyblue\", node_size=500, font_size=10)"
   ]
  },
  {
   "cell_type": "markdown",
   "metadata": {},
   "source": [
    "The topology can also be displayed as an image"
   ]
  },
  {
   "cell_type": "markdown",
   "metadata": {},
   "source": [
    "<img src=\"img/helmi-topology.png\" alt=\"Helmi topology\" class=\"blog-image\">"
   ]
  },
  {
   "cell_type": "markdown",
   "metadata": {},
   "source": [
    "#### **Constructing and executing quantum circuits**\n",
    "\n",
    "Circuits are constructed and submitted to Helmi using the qiskit library. First we construct a Bell pair circuit between 2 qubits. The circuit is then executed on the backend using the `execute` function.  \n",
    "\n",
    "A Bell Pair creates an entanglement between the two qubits. Quantum entanglement is one of the reasons quantum computers are more powerful than classical computers at performing certain tasks. In quantum communication, entanglement is seen as resource that enables to carry out protocols that are impossible from classical point of view. In the next session we will see how entanglement allows to teleport a quantum state.\n",
    "\n",
    "In this example I create the Bell pair \n",
    "\n",
    "$$\n",
    "\\ket{\\beta_{00}} = \\frac{\\ket{00} + \\ket{11}}{\\sqrt{2}}.\n",
    "$$"
   ]
  },
  {
   "cell_type": "code",
   "execution_count": null,
   "metadata": {},
   "outputs": [],
   "source": [
    "circuit = QuantumCircuit(2, name=\"Bell pair circuit\")\n",
    "circuit.h(0)\n",
    "circuit.cx(0, 1)\n",
    "circuit.measure_all()\n",
    "circuit.draw(output=\"mpl\")"
   ]
  },
  {
   "cell_type": "markdown",
   "metadata": {},
   "source": [
    "#### **Executing the circuit on Helmi**\n",
    "\n",
    "Now we have the connection to the backend and constructed the quantum circuit, next all that is needed is to submit the job!\n",
    "\n",
    "To achieve this we use the `execute` function and display a histogram of the results. We then directly compare this to the simulator. \n",
    "\n",
    "The `execute` function takes the quantum circuit, the backend and the `shots` as input. `shots` here means how many times to repeat the execution of the quantum circuit."
   ]
  },
  {
   "cell_type": "code",
   "execution_count": null,
   "metadata": {},
   "outputs": [],
   "source": [
    "job = execute(circuit, backend_helmi, shots=100)\n",
    "print(f\"Job ID: {job.job_id()}.\")\n",
    "print(\"Tracking execution of job:\")\n",
    "job_monitor(job)"
   ]
  },
  {
   "cell_type": "markdown",
   "metadata": {},
   "source": [
    "After submitting, the job is now running. The status of the job can be queried using `job.status()`. Using the job id, you can retrieve previous jobs. "
   ]
  },
  {
   "cell_type": "code",
   "execution_count": null,
   "metadata": {},
   "outputs": [],
   "source": [
    "status = job.status()\n",
    "print(status)\n",
    "# old_job = backend.retrieve_job(job_id)"
   ]
  },
  {
   "cell_type": "markdown",
   "metadata": {},
   "source": [
    "#### Viewing the results \n",
    "\n",
    "Once the quantum job has completed you can directly view the results. "
   ]
  },
  {
   "cell_type": "code",
   "execution_count": null,
   "metadata": {},
   "outputs": [],
   "source": [
    "result = job.result()\n",
    "print(result.job_id)  # The job id can be queried from the result\n",
    "print(result.get_counts())\n",
    "# print(result.get_memory())\n",
    "\n",
    "plot_histogram(result.get_counts())"
   ]
  },
  {
   "cell_type": "markdown",
   "metadata": {},
   "source": [
    "#### Task 1 - Run with the simulator \n",
    "\n",
    "Now, run the same quantum circuit with the `backend_sim`. What are the two things you notice? \n",
    "\n",
    "You can also try experimenting by changing the quantum circuit or increasing the number of shots. \n",
    "\n",
    "<details>\n",
    "<summary>Click to reveal </summary>\n",
    "\n",
    "```python \n",
    "sim_job = execute(circuit, backend_sim, shots=100)\n",
    "print(f\"Job ID: {sim_job.job_id()}.\")\n",
    "print(\"Tracking execution of job:\")\n",
    "job_monitor(sim_job)\n",
    "```\n",
    "</details>\n"
   ]
  },
  {
   "cell_type": "markdown",
   "metadata": {},
   "source": [
    "Additional metadata about the executed job can also be found. Note that this additional metadata only exists when running on Helmi. "
   ]
  },
  {
   "cell_type": "code",
   "execution_count": null,
   "metadata": {},
   "outputs": [],
   "source": [
    "exp_result = result._get_experiment(circuit)\n",
    "print(\"Job ID: \", job.job_id())  # Retrieving the submitted job id\n",
    "print(result.request.circuits)  # Retrieving the circuit request sent\n",
    "print(\n",
    "    \"Calibration Set ID: \", exp_result.calibration_set_id\n",
    ")  # Retrieving the current calibration set id.\n",
    "print(result.request.qubit_mapping)  # Retrieving the qubit mapping\n",
    "print(result.request.shots)  # Retrieving the number of requested shots.\n",
    "print(exp_result.header)"
   ]
  },
  {
   "cell_type": "markdown",
   "metadata": {},
   "source": [
    "From this metadata, we can see the `calibration_set_id`. You can think of the calibration set as a set of settings to operate the quantum computer at. This current calibration set is a snapshot of the most optimal settings for the quantum computer when generated. \n",
    "\n",
    "The operational settings for the quantum computer will drift in time, therefore, a set of calibration experiments will need to be run, and the calibration set updated. "
   ]
  },
  {
   "cell_type": "markdown",
   "metadata": {},
   "source": [
    "#### What did we just do?\n",
    "\n"
   ]
  },
  {
   "cell_type": "markdown",
   "metadata": {},
   "source": [
    "<img src=\"img/journey-quantum-job.jpeg\" alt=\"IQM Quantum Journey\" width=\"900\" height=\"1000\" class=\"blog-image\">"
   ]
  },
  {
   "cell_type": "markdown",
   "metadata": {},
   "source": [
    "<img src=\"img/lumi-helmi-flow.png\" alt=\"LUMI-Helmi flow\" width=\"1400\" height=\"200\" class=\"blog-image\">"
   ]
  },
  {
   "cell_type": "markdown",
   "metadata": {},
   "source": [
    "#### Improving the results 1 \n",
    "\n",
    "Now we have run our quantum circuit on a real quantum computer and seen how it differs from an ideal simulator. What can we do to improve the results from the real quantum computer?"
   ]
  },
  {
   "cell_type": "markdown",
   "metadata": {},
   "source": [
    "##### Using calibration data \n",
    "\n",
    "Using the `execute` function and passing the quantum circuit is a naive implementation. We don't know which qubits we ran on and some qubits may be performing differently to others. To extract the best results from our algorithm we should look at the calibration data and pick the best qubits. \n",
    "\n",
    "First we use some utility functions to get the calibration data and plot a particular metric. "
   ]
  },
  {
   "cell_type": "code",
   "execution_count": null,
   "metadata": {},
   "outputs": [],
   "source": [
    "from utils import get_calibration_data, plot_metrics\n",
    "\n",
    "calibration_data = get_calibration_data(backend_helmi.client)\n",
    "\n",
    "plot_metrics(\n",
    "    metric=\"fidelity_2qb_cliffords_averaged\",\n",
    "    title=\"Two-qubit Gates Cliffords Averaged\",\n",
    "    xlabel=\"Qubits\",\n",
    "    ylabel=\"Fidelities\",\n",
    "    data=calibration_data,\n",
    "    limits=[0.7, 1],\n",
    ")"
   ]
  },
  {
   "cell_type": "code",
   "execution_count": null,
   "metadata": {},
   "outputs": [],
   "source": [
    "plot_metrics(\n",
    "    metric=\"single_shot_readout_fidelity\",\n",
    "    title=\"Single Shot Readout Fidelities\",\n",
    "    xlabel=\"Qubits\",\n",
    "    ylabel=\"Success rate\",\n",
    "    data=calibration_data,\n",
    "    limits=[0.85, 1],\n",
    ")"
   ]
  },
  {
   "cell_type": "code",
   "execution_count": null,
   "metadata": {},
   "outputs": [],
   "source": [
    "plot_metrics(\n",
    "    metric=\"t1_time\",\n",
    "    title=\"T1 times\",\n",
    "    xlabel=\"Qubits\",\n",
    "    ylabel=\"Time\",\n",
    "    data=calibration_data,\n",
    ")"
   ]
  },
  {
   "cell_type": "code",
   "execution_count": null,
   "metadata": {},
   "outputs": [],
   "source": [
    "plot_metrics(\n",
    "    metric=\"t2_time\",\n",
    "    title=\"T2 times\",\n",
    "    xlabel=\"Qubits\",\n",
    "    ylabel=\"Time\",\n",
    "    data=calibration_data,\n",
    ")"
   ]
  },
  {
   "cell_type": "code",
   "execution_count": null,
   "metadata": {},
   "outputs": [],
   "source": [
    "plot_metrics(\n",
    "    metric=\"t2_echo_time\",\n",
    "    title=\"T2 Echo times\",\n",
    "    xlabel=\"Qubits\",\n",
    "    ylabel=\"Time\",\n",
    "    data=calibration_data,\n",
    ")"
   ]
  },
  {
   "cell_type": "code",
   "execution_count": null,
   "metadata": {},
   "outputs": [],
   "source": [
    "plot_metrics(\n",
    "    metric=\"fidelity_1qb_gates_averaged\",\n",
    "    title=\"Single-qubit Gate Fidelities\",\n",
    "    xlabel=\"Qubits\",\n",
    "    ylabel=\"Fidelities\",\n",
    "    data=calibration_data,\n",
    "    limits=[0.95, 1],\n",
    ")"
   ]
  },
  {
   "cell_type": "markdown",
   "metadata": {},
   "source": [
    "Now let's use `transpilation` to map our quantum circuit to a chosen set of qubits. "
   ]
  },
  {
   "cell_type": "code",
   "execution_count": null,
   "metadata": {},
   "outputs": [],
   "source": [
    "qreg = QuantumRegister(2, \"QB\")\n",
    "circuit = QuantumCircuit(qreg, name=\"Bell pair circuit\")\n",
    "circuit.h(qreg[0])\n",
    "circuit.cx(qreg[0], qreg[1])\n",
    "circuit.measure_all()\n",
    "\n",
    "\n",
    "# Qubit numbers start at 0 index whereas the qubit names start at 1 index.\n",
    "qubit_mapping = {\n",
    "    qreg[0]: 4,  # Map the first qubit to QB5\n",
    "    qreg[1]: 2,  # Map the second qubit to QB3\n",
    "}\n",
    "\n",
    "\n",
    "transpiled_circuit = transpile(\n",
    "    circuit,\n",
    "    backend=backend_helmi,\n",
    "    layout_method=\"sabre\",\n",
    "    optimization_level=3,\n",
    "    initial_layout=qubit_mapping,\n",
    ")\n",
    "transpiled_circuit.draw(\"mpl\")"
   ]
  },
  {
   "cell_type": "code",
   "execution_count": null,
   "metadata": {},
   "outputs": [],
   "source": [
    "job = execute(transpiled_circuit, backend_helmi, shots=100)\n",
    "print(f\"Job ID: {job.job_id()}.\")\n",
    "print(\"Tracking execution of job:\")\n",
    "job_monitor(job)"
   ]
  },
  {
   "cell_type": "code",
   "execution_count": null,
   "metadata": {},
   "outputs": [],
   "source": [
    "result = job.result()\n",
    "print(result.request.qubit_mapping)  # Retrieving the qubit mapping\n",
    "plot_histogram(result.get_counts())"
   ]
  },
  {
   "cell_type": "markdown",
   "metadata": {},
   "source": [
    "##### Using more shots \n",
    "\n",
    "Additionally, we can just increase the number of repetitions or shots to get a more accurate distribution. "
   ]
  },
  {
   "cell_type": "markdown",
   "metadata": {},
   "source": [
    "## **Summary**\n",
    "\n",
    "In this notebook we have demonstrated how to create and run your first quantum circuit using VTT's Helmi quantum computer. We used Qiskit and qiskit-on-iqm to submit the jobs. \n",
    "\n",
    "We also explored the limitations of using a real quantum computer compared to an ideal simulator, and how to improve the results. \n",
    "\n",
    "Access to Helmi persists for the remainder of the event. Below are some exerises and tasks if you want to continue!"
   ]
  },
  {
   "cell_type": "markdown",
   "metadata": {},
   "source": [
    "## **Tasks**\n",
    "\n",
    "Here are some tasks to demonstrate usage of Helmi and how to improve the results. Do you notice any differences compared to when you run with the simulator? "
   ]
  },
  {
   "cell_type": "markdown",
   "metadata": {},
   "source": [
    "### **Task 1**\n",
    "\n",
    "In this task we create an entangled state on a real quantum computer!\n",
    "\n",
    "Here is a demonstration of creating a Bell pair (Entanglement!) between qubits 1 and 3. Create an entanglement between the other qubit pairs according to the topology of Helmi! Which are the best qubit pairs today?\n"
   ]
  },
  {
   "cell_type": "code",
   "execution_count": null,
   "metadata": {},
   "outputs": [],
   "source": [
    "# create quantum circuit\n",
    "qreg = QuantumRegister(2, \"QB\")\n",
    "qc = QuantumCircuit(qreg, name=\"Bell pair circuit\")\n",
    "\n",
    "qc.h(0)\n",
    "qc.cx(0, 1)\n",
    "qc.measure_all()\n",
    "\n",
    "qc.draw(\"mpl\")"
   ]
  },
  {
   "cell_type": "code",
   "execution_count": null,
   "metadata": {},
   "outputs": [],
   "source": [
    "# Transpile the circuit\n",
    "\n",
    "qubit_mapping = {\n",
    "    qreg[0]: 0,  # Map the first qubit to QB1\n",
    "    qreg[1]: 2,  # Map the second qubit to QB3\n",
    "}\n",
    "transpiled_circuit = transpile(qc, backend=backend_helmi, initial_layout=qubit_mapping)\n",
    "transpiled_circuit.draw(\"mpl\", idle_wires=False)"
   ]
  },
  {
   "cell_type": "code",
   "execution_count": null,
   "metadata": {},
   "outputs": [],
   "source": [
    "# Execute the circuit\n",
    "\n",
    "job = execute(transpiled_circuit, backend_helmi, shots=100)\n",
    "\n",
    "job_monitor(job)\n",
    "counts = job.result().get_counts()\n",
    "print(counts)\n",
    "\n",
    "plot_histogram(counts)"
   ]
  },
  {
   "cell_type": "markdown",
   "metadata": {},
   "source": [
    "#### **Task 1 - Solution**"
   ]
  },
  {
   "cell_type": "code",
   "execution_count": null,
   "metadata": {},
   "outputs": [],
   "source": [
    "def create_bell_pair_circuit(outer_qubit):\n",
    "    \"\"\"For a given outer qubit, create a bell pair between the outer qubit and QB3\"\"\"\n",
    "    qreg = QuantumRegister(2, \"QB\")\n",
    "    qc = QuantumCircuit(qreg, name=\"Bell pair circuit\")\n",
    "    qc.h(0)\n",
    "    qc.cx(0, 1)\n",
    "    qc.measure_all()\n",
    "\n",
    "    # Create the qubit mapping\n",
    "    qubit_mapping = {\n",
    "        qreg[0]: outer_qubit,\n",
    "        qreg[1]: 2,  # Map the second qubit to QB3\n",
    "    }\n",
    "\n",
    "    # Transpile the circuit with the qubit mapping\n",
    "    transpiled_circuit = transpile(\n",
    "        qc, backend=backend_helmi, initial_layout=qubit_mapping\n",
    "    )\n",
    "\n",
    "    return transpiled_circuit\n",
    "\n",
    "\n",
    "outer_qubits = [0, 1, 3, 4]  # Qubits 1, 2, 4, 5\n",
    "bell_pair_circuits = [create_bell_pair_circuit(q) for q in outer_qubits]\n",
    "\n",
    "# uncomment to draw the circuits\n",
    "# for circuit in bell_pair_circuits:\n",
    "#     display(circuit.draw('mpl'))\n",
    "\n",
    "jobs = [execute(qc, backend_helmi, shots=100) for qc in bell_pair_circuits]\n",
    "\n",
    "for i, job in enumerate(jobs):\n",
    "    job_monitor(job)\n",
    "    counts = job.result().get_counts()\n",
    "    print(f\"Counts for outer qubit {outer_qubits[i]}: {counts}\")"
   ]
  },
  {
   "cell_type": "code",
   "execution_count": null,
   "metadata": {},
   "outputs": [],
   "source": [
    "def success_probability(counts):\n",
    "    total_shots = sum(counts.values())\n",
    "    success_count = counts.get(\"00\", 0) + counts.get(\"11\", 0)\n",
    "    return success_count / total_shots\n",
    "\n",
    "\n",
    "outcome_order = [\"00\", \"01\", \"10\", \"11\"]\n",
    "success_probabilities = [\n",
    "    success_probability(counts) for counts in [job.result().get_counts() for job in jobs]\n",
    "]\n",
    "\n",
    "\n",
    "# Plot histograms for counts\n",
    "plt.figure(figsize=(12, 6))\n",
    "\n",
    "for i, counts in enumerate([job.result().get_counts() for job in jobs]):\n",
    "    plt.subplot(2, 2, i + 1)\n",
    "    sorted_counts = {outcome: counts.get(outcome, 0) for outcome in outcome_order}\n",
    "    plt.bar(sorted_counts.keys(), sorted_counts.values())\n",
    "    plt.title(f\"Counts for outer qubit {outer_qubits[i] + 1}\")\n",
    "    plt.xlabel(\"Measurement Outcomes\")\n",
    "    plt.ylabel(\"Counts\")\n",
    "\n",
    "plt.tight_layout()\n",
    "\n",
    "# Plot histograms for success probabilities\n",
    "plt.figure(figsize=(12, 6))\n",
    "plt.bar(outer_qubits, success_probabilities)\n",
    "plt.title(\"Success Probabilities for Each Outer Qubit\")\n",
    "plt.xlabel(\"Outer Qubit\")\n",
    "plt.ylabel(\"Success Probability\")\n",
    "\n",
    "plt.show()"
   ]
  },
  {
   "cell_type": "markdown",
   "metadata": {},
   "source": [
    "### **Task 2 - Entangling more qubits: GHZ**\n",
    "\n",
    "We've now seen that we can create a Bell pair circuit where 2 qubits are entangled. What about entangling more than 2 qubits? The **Greenberger-Horne-Zeilinger** (GHZ) State does precisely this by creating an *n*-qubit entangled state. Running a GHZ experiment is useful for assessing the multi-qubit interactions in a quantum computer. \n",
    "\n",
    "Here we demonstrate a 5 qubit GHZ circuit on Helmi."
   ]
  },
  {
   "cell_type": "markdown",
   "metadata": {},
   "source": [
    "#### **Creating the GHZ circuit**"
   ]
  },
  {
   "cell_type": "code",
   "execution_count": null,
   "metadata": {},
   "outputs": [],
   "source": [
    "# create quantum circuit\n",
    "\n",
    "shots = 1000\n",
    "\n",
    "qreg = QuantumRegister(5, \"QB\")\n",
    "qc = QuantumCircuit(qreg, name=\"GHZ circuit\")\n",
    "\n",
    "qc.h(0)\n",
    "qc.cx(0, 1)  # apply CNOT, control=0, target=1\n",
    "qc.cx(1, 2)\n",
    "qc.cx(2, 3)\n",
    "qc.cx(3, 4)\n",
    "qc.measure_all()\n",
    "\n",
    "qc.draw(\"mpl\")"
   ]
  },
  {
   "cell_type": "markdown",
   "metadata": {},
   "source": [
    "Let's see what the simulator gives"
   ]
  },
  {
   "cell_type": "code",
   "execution_count": null,
   "metadata": {},
   "outputs": [],
   "source": [
    "from qiskit import Aer\n",
    "\n",
    "simulator = Aer.get_backend(\"aer_simulator\")\n",
    "result = simulator.run(qc, shots=shots).result()\n",
    "counts = result.get_counts()  # extract statistics from results\n",
    "print(counts)\n",
    "\n",
    "plot_histogram(counts)"
   ]
  },
  {
   "cell_type": "markdown",
   "metadata": {},
   "source": [
    "In this approach, the circuit is created in a 'textbook' fashion. Due to the topology of Helmi, after transpiling the circuit it becomes much longer because SWAP gates are needed. "
   ]
  },
  {
   "cell_type": "code",
   "execution_count": null,
   "metadata": {},
   "outputs": [],
   "source": [
    "transpiled_circuit = transpile(\n",
    "    qc, backend=backend_helmi, layout_method=\"sabre\", optimization_level=3\n",
    ")\n",
    "transpiled_circuit.draw(\"mpl\")"
   ]
  },
  {
   "cell_type": "markdown",
   "metadata": {},
   "source": [
    "This can be shown by only displaying the routed circuit, without decomposition into native gates. "
   ]
  },
  {
   "cell_type": "code",
   "execution_count": null,
   "metadata": {},
   "outputs": [],
   "source": [
    "transpiled_circuit_simple = transpile(\n",
    "    qc,\n",
    "    coupling_map=backend_helmi.coupling_map,\n",
    "    layout_method=\"sabre\",\n",
    "    optimization_level=3,\n",
    ")\n",
    "transpiled_circuit_simple.draw(\"mpl\")"
   ]
  },
  {
   "cell_type": "markdown",
   "metadata": {},
   "source": [
    "Let's run this on Helmi!"
   ]
  },
  {
   "cell_type": "code",
   "execution_count": null,
   "metadata": {},
   "outputs": [],
   "source": [
    "job = execute(transpiled_circuit, backend_helmi, shots=1000)\n",
    "\n",
    "job_monitor(job)\n",
    "counts = job.result().get_counts()\n",
    "\n",
    "plot_histogram(counts)"
   ]
  },
  {
   "cell_type": "markdown",
   "metadata": {},
   "source": [
    "In this case we have an additional swap gates due to the central qubit (QB3) being the only available qubit to make 2 qubit gates. \n",
    "\n",
    "We can reduce the number of swap gates needed and improve our GHZ 5 result by placing the Hadamard gate on the central qubit and CNOTs on all the neighbours. "
   ]
  },
  {
   "cell_type": "code",
   "execution_count": null,
   "metadata": {},
   "outputs": [],
   "source": [
    "# create quantum circuit\n",
    "qreg = QuantumRegister(5, \"QB\")\n",
    "qc = QuantumCircuit(qreg, name=\"GHZ circuit\")\n",
    "\n",
    "qc.h(2)\n",
    "qc.cx(2, 0)\n",
    "qc.cx(2, 1)\n",
    "qc.cx(2, 3)\n",
    "qc.cx(2, 4)\n",
    "\n",
    "qc.measure_all()\n",
    "\n",
    "qc.draw(\"mpl\")"
   ]
  },
  {
   "cell_type": "code",
   "execution_count": null,
   "metadata": {},
   "outputs": [],
   "source": [
    "transpiled_circuit = transpile(\n",
    "    qc, backend=backend_helmi, layout_method=\"sabre\", optimization_level=3\n",
    ")\n",
    "transpiled_circuit.draw(\"mpl\")"
   ]
  },
  {
   "cell_type": "markdown",
   "metadata": {},
   "source": [
    "Now we run the code on Helmi and look at the histogram. "
   ]
  },
  {
   "cell_type": "code",
   "execution_count": null,
   "metadata": {},
   "outputs": [],
   "source": [
    "job = execute(transpiled_circuit, backend_helmi, shots=1000)\n",
    "\n",
    "job_monitor(job)\n",
    "\n",
    "counts = job.result().get_counts()\n",
    "plot_histogram(counts)"
   ]
  },
  {
   "cell_type": "markdown",
   "metadata": {},
   "source": [
    "## **Advanced - Using Error Mitigation**\n",
    "\n",
    "Error mitigation is a class of techniques aimed at reducing the error from submitting to the current generation of noisy devices. This exercise demonstrates how to apply simple readout error mitigation to improve the results from our GHZ circuit. \n",
    "\n",
    "This follows Qiskit's tutorial: [Readout Mitigation](https://qiskit.org/ecosystem/experiments/manuals/measurement/readout_mitigation.html), however alternatives such as [Mitiq](https://mitiq.readthedocs.io/en/stable/index.html) can be used. Mitiq provides an open-source library to learn about and implement error mitigation.\n"
   ]
  },
  {
   "cell_type": "markdown",
   "metadata": {},
   "source": [
    "For this brief example, *readout* error mitigation is applied using the [`LocalReadoutError`](https://qiskit.org/ecosystem/experiments/stubs/qiskit_experiments.library.characterization.LocalReadoutError.html#qiskit_experiments.library.characterization.LocalReadoutError) mitigator from `qiskit.experiments`. Readout error mitigation refers to errors related to \"reading out\" of the quantum state into classical information which occurs during measurement. \n",
    "\n",
    "With the [`LocalReadoutError`](https://qiskit.org/ecosystem/experiments/stubs/qiskit_experiments.library.characterization.LocalReadoutError.html#qiskit_experiments.library.characterization.LocalReadoutError), a $2^n \\times 2^n$ assignment matrix $A$ is created, containing the probabilities to observe $y$, given $x$. That is to say that the individual elements of the matrix will contain the probabilities that a qubit prepared in state $|0 \\rangle$ or $|1 \\rangle$ and was measured in either state $|0 \\rangle$ or $|1 \\rangle$.\n",
    "\n",
    "Here we demonstrate the[ `LocalReadoutMitigator`](https://qiskit.org/documentation/stubs/qiskit.result.LocalReadoutMitigator.html#qiskit.result.LocalReadoutMitigator) example, which assumes the readout errors of the qubits are uncorrelated. In this case $n 2 \\times 2$  *mitigation matrices* are generated, 1 for each qubit. \n",
    "\n",
    "First we generate 2 circuits for all of Helmi's qubits. The first circuit has no gates applied with the ideal outcome of all zeros: `00000`, the second circuit applied an $X$ gate to our circuit with the ideal outcome of all ones: `11111`. After running the experiment we get the [Mitigator](https://qiskit.org/documentation/stubs/qiskit.result.LocalReadoutMitigator.html#qiskit.result.LocalReadoutMitigator) which returns the mitigated qasi-probabilities. "
   ]
  },
  {
   "cell_type": "code",
   "execution_count": null,
   "metadata": {},
   "outputs": [],
   "source": [
    "from qiskit_experiments.library import LocalReadoutError\n",
    "\n",
    "qubits = [0, 1, 2, 3, 4]\n",
    "\n",
    "# The qiskit experiment class generates the \"Calibration Circuits\"\n",
    "# based off the experiment and the qubits input.\n",
    "exp = LocalReadoutError(qubits)\n",
    "for c in exp.circuits():\n",
    "    print(c)"
   ]
  },
  {
   "cell_type": "markdown",
   "metadata": {},
   "source": [
    "The experiment can simple be run. Qiskit's experiments library takes take of the circuit transpilation and execution in addition to analysis. In this case the above circuits are run and then analysed. "
   ]
  },
  {
   "cell_type": "code",
   "execution_count": null,
   "metadata": {},
   "outputs": [],
   "source": [
    "provider = IQMProvider(\"https://qc.vtt.fi/helmi/cocos\")\n",
    "backend = provider.get_backend()\n",
    "\n",
    "backend = fake_backend\n",
    "\n",
    "# from qiskit import Aer\n",
    "# backend = Aer.get_backend('aer_simulator')\n",
    "\n",
    "exp.analysis.set_options(plot=True)\n",
    "\n",
    "result = exp.run(backend)\n",
    "mitigator = result.analysis_results(0).value"
   ]
  },
  {
   "cell_type": "code",
   "execution_count": null,
   "metadata": {},
   "outputs": [],
   "source": [
    "result.figure(0)"
   ]
  },
  {
   "cell_type": "markdown",
   "metadata": {},
   "source": [
    "Here $A$ is the assignment matrix, with $I$ being the identity matrix. The individual components of the assignment matrix represent the probabilities to, for example prepare a $|0 \\rangle$ state and get a $|1 \\rangle$ state or $|1\\rangle$ state and get a $|0\\rangle$ state. This is compared against the identity matrix because in the ideal case we would expect $P(X|X) = 1$ and $P(X|Y) = 0$ ($P(X|X)$ means the probability of $X$ given $X$) The plot shows the absolute value of these two matrices. \n",
    "\n",
    "The automatic scale given by Qiskit experiments can be slightly misleading, as demonstrated when you run this with the simulator. \n",
    "\n",
    "The assignment matrix can be printed. "
   ]
  },
  {
   "cell_type": "code",
   "execution_count": null,
   "metadata": {},
   "outputs": [],
   "source": [
    "mitigator.assignment_matrix()\n",
    "print(len(mitigator.assignment_matrix()))"
   ]
  },
  {
   "cell_type": "markdown",
   "metadata": {},
   "source": [
    "If, for example we used the simulator here the assignment matrix would look like the following:\n",
    "\n",
    "```python\n",
    "array([[1., 0., 0., ..., 0., 0., 0.],\n",
    "       [0., 1., 0., ..., 0., 0., 0.],\n",
    "       [0., 0., 1., ..., 0., 0., 0.],\n",
    "       ...,\n",
    "       [0., 0., 0., ..., 1., 0., 0.],\n",
    "       [0., 0., 0., ..., 0., 1., 0.],\n",
    "       [0., 0., 0., ..., 0., 0., 1.]])\n",
    "```\n",
    "\n",
    "With the simulator the $n$ mitigation matrices will look like:\n",
    "\n",
    "```python\n",
    "[1. 0.]\n",
    " [0. 1.]\n",
    "```"
   ]
  },
  {
   "cell_type": "markdown",
   "metadata": {},
   "source": [
    "When using the Qiskit experiment library the analysis is hidden from the user.\n",
    "\n",
    "\n",
    "Here is the code snippet from Qiskit experiments [`LocalReadoutErrorAnalysis`](https://qiskit.org/ecosystem/experiments/stubs/qiskit_experiments.library.characterization.LocalReadoutErrorAnalysis.html#qiskit_experiments.library.characterization.LocalReadoutErrorAnalysis) if you wish to see what it's doing under the hood. "
   ]
  },
  {
   "cell_type": "code",
   "execution_count": null,
   "metadata": {},
   "outputs": [],
   "source": [
    "for m in mitigator._mitigation_mats:\n",
    "    print(m)\n",
    "    print()"
   ]
  },
  {
   "cell_type": "code",
   "execution_count": null,
   "metadata": {},
   "outputs": [],
   "source": [
    "print(len(mitigator._mitigation_mats))"
   ]
  },
  {
   "cell_type": "markdown",
   "metadata": {},
   "source": [
    "Then a circuit can be run on Helmi and our error mitigation applied! In this case we apply the readout error mitigation to the GHZ circuit."
   ]
  },
  {
   "cell_type": "code",
   "execution_count": null,
   "metadata": {},
   "outputs": [],
   "source": [
    "shots = 10000\n",
    "counts = backend.run(transpiled_circuit, shots=shots).result().get_counts()\n",
    "unmitigated_probs = {label: count / shots for label, count in counts.items()}"
   ]
  },
  {
   "cell_type": "code",
   "execution_count": null,
   "metadata": {},
   "outputs": [],
   "source": [
    "mitigated_quasi_probs = mitigator.quasi_probabilities(counts)\n",
    "mitigated_probs = (\n",
    "    mitigated_quasi_probs.nearest_probability_distribution().binary_probabilities()\n",
    ")"
   ]
  },
  {
   "cell_type": "code",
   "execution_count": null,
   "metadata": {},
   "outputs": [],
   "source": [
    "legend = [\"Mitigated Probabilities\", \"Unmitigated Probabilities\"]\n",
    "plot_histogram(\n",
    "    [mitigated_probs, unmitigated_probs],\n",
    "    legend=legend,\n",
    "    sort=\"value_desc\",\n",
    "    bar_labels=False,\n",
    ")"
   ]
  },
  {
   "cell_type": "markdown",
   "metadata": {},
   "source": [
    "We can quickly see how the total success probability has increased by counting the number of all 0's and all 1's states. "
   ]
  },
  {
   "cell_type": "code",
   "execution_count": null,
   "metadata": {},
   "outputs": [],
   "source": [
    "print((unmitigated_probs[\"00000\"] + unmitigated_probs[\"11111\"]))\n",
    "print((mitigated_probs[\"00000\"] + mitigated_probs[\"11111\"]))"
   ]
  },
  {
   "cell_type": "markdown",
   "metadata": {},
   "source": [
    "This is just 1 example of error mitigation for mitigating the \"Local\" (when you assume the readout erros for each qubit are independent) readout error. You could also apply what the Correlated readout error mitigation as described in Qiskit's tutorial or other forms of error mitigation which are described in [Mitiq's](https://mitiq.readthedocs.io/en/stable/guide/guide.html) documentation. "
   ]
  },
  {
   "cell_type": "markdown",
   "metadata": {},
   "source": [
    "## **Additional Information**\n",
    "\n",
    "This notebook was written for the NeIC Conference 2024, held in Tallinn. It was built using \n",
    "\n",
    "```bash\n",
    "iqm-client==15.3\n",
    "qiskit-iqm==11.10\n",
    "qiskit==0.45.2\n",
    "qiskit-aer==0.13.2\n",
    "qiskit-experiments==0.6.0\n",
    "```\n",
    "\n",
    "Author: Jake Muff "
   ]
  },
  {
   "cell_type": "markdown",
   "metadata": {},
   "source": []
  }
 ],
 "metadata": {
  "kernelspec": {
   "display_name": "helmi-cocos",
   "language": "python",
   "name": "python3"
  },
  "language_info": {
   "codemirror_mode": {
    "name": "ipython",
    "version": 3
   },
   "file_extension": ".py",
   "mimetype": "text/x-python",
   "name": "python",
   "nbconvert_exporter": "python",
   "pygments_lexer": "ipython3",
   "version": "3.10.10"
  }
 },
 "nbformat": 4,
 "nbformat_minor": 2
}
